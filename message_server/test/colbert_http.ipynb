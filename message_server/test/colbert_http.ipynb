{
 "cells": [
  {
   "cell_type": "code",
   "execution_count": 1,
   "metadata": {},
   "outputs": [
    {
     "name": "stdout",
     "output_type": "stream",
     "text": [
      "[Feb 24, 22:09:27] #> Loading the queries from downloads/lotte/lifestyle/dev/questions.search.tsv ...\n",
      "[Feb 24, 22:09:27] #> Got 417 queries. All QIDs are unique.\n",
      "\n",
      "[Feb 24, 22:09:27] #> Loading collection...\n",
      "0M 1M 2M \n",
      "[Feb 24, 22:09:32] #> Loading collection...\n",
      "0M 1M 2M \n",
      "[Feb 24, 22:09:42] #> Loading codec...\n",
      "[Feb 24, 22:09:42] Loading decompress_residuals_cpp extension (set COLBERT_LOAD_TORCH_EXTENSION_VERBOSE=True for more info)...\n",
      "[Feb 24, 22:09:43] Loading packbits_cpp extension (set COLBERT_LOAD_TORCH_EXTENSION_VERBOSE=True for more info)...\n",
      "[Feb 24, 22:09:44] #> Loading IVF...\n",
      "[Feb 24, 22:09:45] #> Loading doclens...\n"
     ]
    },
    {
     "name": "stderr",
     "output_type": "stream",
     "text": [
      "100%|██████████| 95/95 [00:00<00:00, 1030.71it/s]\n"
     ]
    },
    {
     "name": "stdout",
     "output_type": "stream",
     "text": [
      "[Feb 24, 22:09:45] #> Loading codes and residuals...\n"
     ]
    },
    {
     "name": "stderr",
     "output_type": "stream",
     "text": [
      "100%|██████████| 95/95 [00:05<00:00, 16.94it/s]\n"
     ]
    }
   ],
   "source": [
    "import os\n",
    "import sys\n",
    "from tqdm import tqdm\n",
    "sys.path.insert(0, '../')\n",
    "\n",
    "from colbert.infra import Run, RunConfig, ColBERTConfig\n",
    "from colbert.data import Queries, Collection\n",
    "from colbert import Indexer, Searcher\n",
    "\n",
    "nbits = 2   # encode each dimension with 2 bits\n",
    "doc_maxlen = 300   # truncate passages at 300 tokens\n",
    "\n",
    "checkpoint = 'downloads/colbertv2.0'\n",
    "index_name = f'lifestyle.dev.2bits'\n",
    "dataroot = 'downloads/lotte'\n",
    "dataset = 'lifestyle'\n",
    "datasplit = 'dev'\n",
    "\n",
    "queries = os.path.join(dataroot, dataset, datasplit, 'questions.search.tsv')\n",
    "collection = os.path.join(dataroot, dataset, datasplit, 'collection.tsv')\n",
    "\n",
    "queries = Queries(path=queries)\n",
    "collection = Collection(path=collection)\n",
    "\n",
    "# f'Loaded {len(queries)} queries and {len(collection):,} passages'\n",
    "# To create the searcher using its relative name (i.e., not a full path), set\n",
    "# experiment=value_used_for_indexing in the RunConfig.\n",
    "with Run().context(RunConfig(experiment='notebook')):\n",
    "    searcher = Searcher(index=index_name)\n",
    "\n",
    "\n",
    "# If you want to customize the search latency--quality tradeoff, you can also supply a\n",
    "# config=ColBERTConfig(ncells=.., centroid_score_threshold=.., ndocs=..) argument.\n",
    "# The default settings with k <= 10 (1, 0.5, 256) gives the fastest search,\n",
    "# but you can gain more extensive search by setting larger values of k or\n",
    "# manually specifying more conservative ColBERTConfig settings (e.g. (4, 0.4, 4096)).\n",
    "\n",
    "file_path = '/home/adqaicp/CS-M1/TTDS/Coursework1/id_pid.tsv'\n",
    "with open(file_path, \"r\", encoding=\"utf-8\") as f:\n",
    "    lines = f.readlines()\n",
    "# use dict to store id and pid\n",
    "id_pid = {}\n",
    "for line in lines:\n",
    "    line = line.strip()\n",
    "    line = line.split('\\t')\n",
    "    id_pid[line[0]] = line[1]"
   ]
  },
  {
   "cell_type": "code",
   "execution_count": 2,
   "metadata": {},
   "outputs": [
    {
     "name": "stderr",
     "output_type": "stream",
     "text": [
      "127.0.0.1 - - [24/Feb/2023 22:10:19] \"POST /colbert HTTP/1.1\" 201 -\n"
     ]
    },
    {
     "name": "stdout",
     "output_type": "stream",
     "text": [
      "{'query': 'learn SQL', 'k': 5}\n",
      "\n",
      "#> QueryTokenizer.tensorize(batch_text[0], batch_background[0], bsize) ==\n",
      "#> Input: . learn SQL, \t\t True, \t\t None\n",
      "#> Output IDs: torch.Size([32]), tensor([  101,     1,  4553, 29296,   102,   103,   103,   103,   103,   103,\n",
      "          103,   103,   103,   103,   103,   103,   103,   103,   103,   103,\n",
      "          103,   103,   103,   103,   103,   103,   103,   103,   103,   103,\n",
      "          103,   103])\n",
      "#> Output Mask: torch.Size([32]), tensor([1, 1, 1, 1, 1, 0, 0, 0, 0, 0, 0, 0, 0, 0, 0, 0, 0, 0, 0, 0, 0, 0, 0, 0,\n",
      "        0, 0, 0, 0, 0, 0, 0, 0])\n",
      "\n"
     ]
    },
    {
     "name": "stderr",
     "output_type": "stream",
     "text": [
      "127.0.0.1 - - [24/Feb/2023 22:10:20] \"POST /colbert HTTP/1.1\" 201 -\n",
      "127.0.0.1 - - [24/Feb/2023 22:10:20] \"POST /colbert HTTP/1.1\" 201 -\n",
      "127.0.0.1 - - [24/Feb/2023 22:10:20] \"POST /colbert HTTP/1.1\" 201 -\n",
      "127.0.0.1 - - [24/Feb/2023 22:10:20] \"POST /colbert HTTP/1.1\" 201 -\n",
      "127.0.0.1 - - [24/Feb/2023 22:10:20] \"POST /colbert HTTP/1.1\" 201 -\n",
      "127.0.0.1 - - [24/Feb/2023 22:10:20] \"POST /colbert HTTP/1.1\" 201 -\n",
      "127.0.0.1 - - [24/Feb/2023 22:10:20] \"POST /colbert HTTP/1.1\" 201 -\n",
      "127.0.0.1 - - [24/Feb/2023 22:10:20] \"POST /colbert HTTP/1.1\" 201 -\n",
      "127.0.0.1 - - [24/Feb/2023 22:10:20] \"POST /colbert HTTP/1.1\" 201 -\n",
      "127.0.0.1 - - [24/Feb/2023 22:10:20] \"POST /colbert HTTP/1.1\" 201 -\n",
      "127.0.0.1 - - [24/Feb/2023 22:10:20] \"POST /colbert HTTP/1.1\" 201 -\n"
     ]
    },
    {
     "name": "stdout",
     "output_type": "stream",
     "text": [
      "{'query': 'learn SQL', 'k': 5}\n",
      "{'query': 'learn SQL', 'k': 5}\n",
      "{'query': 'learn SQL', 'k': 5}\n",
      "{'query': 'learn SQL', 'k': 5}\n",
      "{'query': 'learn SQL', 'k': 5}\n",
      "{'query': 'learn SQL', 'k': 5}\n",
      "{'query': 'learn SQL', 'k': 5}\n",
      "{'query': 'learn SQL', 'k': 5}\n",
      "{'query': 'learn SQL', 'k': 5}\n",
      "{'query': 'learn SQL', 'k': 5}\n",
      "{'query': 'learn SQL', 'k': 5}\n"
     ]
    },
    {
     "name": "stderr",
     "output_type": "stream",
     "text": [
      "127.0.0.1 - - [24/Feb/2023 22:10:20] \"POST /colbert HTTP/1.1\" 201 -\n",
      "127.0.0.1 - - [24/Feb/2023 22:10:20] \"POST /colbert HTTP/1.1\" 201 -\n",
      "127.0.0.1 - - [24/Feb/2023 22:10:20] \"POST /colbert HTTP/1.1\" 201 -\n",
      "127.0.0.1 - - [24/Feb/2023 22:10:20] \"POST /colbert HTTP/1.1\" 201 -\n",
      "127.0.0.1 - - [24/Feb/2023 22:10:20] \"POST /colbert HTTP/1.1\" 201 -\n",
      "127.0.0.1 - - [24/Feb/2023 22:10:20] \"POST /colbert HTTP/1.1\" 201 -\n",
      "127.0.0.1 - - [24/Feb/2023 22:10:20] \"POST /colbert HTTP/1.1\" 201 -\n",
      "127.0.0.1 - - [24/Feb/2023 22:10:20] \"POST /colbert HTTP/1.1\" 201 -\n",
      "127.0.0.1 - - [24/Feb/2023 22:10:20] \"POST /colbert HTTP/1.1\" 201 -\n",
      "127.0.0.1 - - [24/Feb/2023 22:10:20] \"POST /colbert HTTP/1.1\" 201 -\n",
      "127.0.0.1 - - [24/Feb/2023 22:10:20] \"POST /colbert HTTP/1.1\" 201 -\n"
     ]
    },
    {
     "name": "stdout",
     "output_type": "stream",
     "text": [
      "{'query': 'learn SQL', 'k': 5}\n",
      "{'query': 'learn SQL', 'k': 5}\n",
      "{'query': 'learn SQL', 'k': 5}\n",
      "{'query': 'learn SQL', 'k': 5}\n",
      "{'query': 'learn SQL', 'k': 5}\n",
      "{'query': 'learn SQL', 'k': 5}\n",
      "{'query': 'learn SQL', 'k': 5}\n",
      "{'query': 'learn SQL', 'k': 5}\n",
      "{'query': 'learn SQL', 'k': 5}\n",
      "{'query': 'learn SQL', 'k': 5}\n",
      "{'query': 'learn SQL', 'k': 5}\n"
     ]
    },
    {
     "name": "stderr",
     "output_type": "stream",
     "text": [
      "127.0.0.1 - - [24/Feb/2023 22:10:20] \"POST /colbert HTTP/1.1\" 201 -\n",
      "127.0.0.1 - - [24/Feb/2023 22:10:20] \"POST /colbert HTTP/1.1\" 201 -\n",
      "127.0.0.1 - - [24/Feb/2023 22:10:20] \"POST /colbert HTTP/1.1\" 201 -\n",
      "127.0.0.1 - - [24/Feb/2023 22:10:20] \"POST /colbert HTTP/1.1\" 201 -\n",
      "127.0.0.1 - - [24/Feb/2023 22:10:20] \"POST /colbert HTTP/1.1\" 201 -\n",
      "127.0.0.1 - - [24/Feb/2023 22:10:20] \"POST /colbert HTTP/1.1\" 201 -\n",
      "127.0.0.1 - - [24/Feb/2023 22:10:20] \"POST /colbert HTTP/1.1\" 201 -\n",
      "127.0.0.1 - - [24/Feb/2023 22:10:20] \"POST /colbert HTTP/1.1\" 201 -\n",
      "127.0.0.1 - - [24/Feb/2023 22:10:20] \"POST /colbert HTTP/1.1\" 201 -\n",
      "127.0.0.1 - - [24/Feb/2023 22:10:20] \"POST /colbert HTTP/1.1\" 201 -\n",
      "127.0.0.1 - - [24/Feb/2023 22:10:20] \"POST /colbert HTTP/1.1\" 201 -\n"
     ]
    },
    {
     "name": "stdout",
     "output_type": "stream",
     "text": [
      "{'query': 'learn SQL', 'k': 5}\n",
      "{'query': 'learn SQL', 'k': 5}\n",
      "{'query': 'learn SQL', 'k': 5}\n",
      "{'query': 'learn SQL', 'k': 5}\n",
      "{'query': 'learn SQL', 'k': 5}\n",
      "{'query': 'learn SQL', 'k': 5}\n",
      "{'query': 'learn SQL', 'k': 5}\n",
      "{'query': 'learn SQL', 'k': 5}\n",
      "{'query': 'learn SQL', 'k': 5}\n",
      "{'query': 'learn SQL', 'k': 5}\n",
      "{'query': 'learn SQL', 'k': 5}\n"
     ]
    },
    {
     "name": "stderr",
     "output_type": "stream",
     "text": [
      "127.0.0.1 - - [24/Feb/2023 22:10:21] \"POST /colbert HTTP/1.1\" 201 -\n",
      "127.0.0.1 - - [24/Feb/2023 22:10:21] \"POST /colbert HTTP/1.1\" 201 -\n",
      "127.0.0.1 - - [24/Feb/2023 22:10:21] \"POST /colbert HTTP/1.1\" 201 -\n",
      "127.0.0.1 - - [24/Feb/2023 22:10:21] \"POST /colbert HTTP/1.1\" 201 -\n",
      "127.0.0.1 - - [24/Feb/2023 22:10:21] \"POST /colbert HTTP/1.1\" 201 -\n",
      "127.0.0.1 - - [24/Feb/2023 22:10:21] \"POST /colbert HTTP/1.1\" 201 -\n",
      "127.0.0.1 - - [24/Feb/2023 22:10:21] \"POST /colbert HTTP/1.1\" 201 -\n",
      "127.0.0.1 - - [24/Feb/2023 22:10:21] \"POST /colbert HTTP/1.1\" 201 -\n",
      "127.0.0.1 - - [24/Feb/2023 22:10:21] \"POST /colbert HTTP/1.1\" 201 -\n",
      "127.0.0.1 - - [24/Feb/2023 22:10:21] \"POST /colbert HTTP/1.1\" 201 -\n",
      "127.0.0.1 - - [24/Feb/2023 22:10:21] \"POST /colbert HTTP/1.1\" 201 -\n",
      "127.0.0.1 - - [24/Feb/2023 22:10:21] \"POST /colbert HTTP/1.1\" 201 -\n"
     ]
    },
    {
     "name": "stdout",
     "output_type": "stream",
     "text": [
      "{'query': 'learn SQL', 'k': 5}\n",
      "{'query': 'learn SQL', 'k': 5}\n",
      "{'query': 'learn SQL', 'k': 5}\n",
      "{'query': 'learn SQL', 'k': 5}\n",
      "{'query': 'learn SQL', 'k': 5}\n",
      "{'query': 'learn SQL', 'k': 5}\n",
      "{'query': 'learn SQL', 'k': 5}\n",
      "{'query': 'learn SQL', 'k': 5}\n",
      "{'query': 'learn SQL', 'k': 5}\n",
      "{'query': 'learn SQL', 'k': 5}\n",
      "{'query': 'learn SQL', 'k': 5}\n",
      "{'query': 'learn SQL', 'k': 5}\n"
     ]
    },
    {
     "name": "stderr",
     "output_type": "stream",
     "text": [
      "127.0.0.1 - - [24/Feb/2023 22:10:21] \"POST /colbert HTTP/1.1\" 201 -\n",
      "127.0.0.1 - - [24/Feb/2023 22:10:21] \"POST /colbert HTTP/1.1\" 201 -\n",
      "127.0.0.1 - - [24/Feb/2023 22:10:21] \"POST /colbert HTTP/1.1\" 201 -\n",
      "127.0.0.1 - - [24/Feb/2023 22:10:21] \"POST /colbert HTTP/1.1\" 201 -\n",
      "127.0.0.1 - - [24/Feb/2023 22:10:21] \"POST /colbert HTTP/1.1\" 201 -\n",
      "127.0.0.1 - - [24/Feb/2023 22:10:21] \"POST /colbert HTTP/1.1\" 201 -\n",
      "127.0.0.1 - - [24/Feb/2023 22:10:21] \"POST /colbert HTTP/1.1\" 201 -\n",
      "127.0.0.1 - - [24/Feb/2023 22:10:21] \"POST /colbert HTTP/1.1\" 201 -\n",
      "127.0.0.1 - - [24/Feb/2023 22:10:21] \"POST /colbert HTTP/1.1\" 201 -\n",
      "127.0.0.1 - - [24/Feb/2023 22:10:21] \"POST /colbert HTTP/1.1\" 201 -\n",
      "127.0.0.1 - - [24/Feb/2023 22:10:21] \"POST /colbert HTTP/1.1\" 201 -\n"
     ]
    },
    {
     "name": "stdout",
     "output_type": "stream",
     "text": [
      "{'query': 'learn SQL', 'k': 5}\n",
      "{'query': 'learn SQL', 'k': 5}\n",
      "{'query': 'learn SQL', 'k': 5}\n",
      "{'query': 'learn SQL', 'k': 5}\n",
      "{'query': 'learn SQL', 'k': 5}\n",
      "{'query': 'learn SQL', 'k': 5}\n",
      "{'query': 'learn SQL', 'k': 5}\n",
      "{'query': 'learn SQL', 'k': 5}\n",
      "{'query': 'learn SQL', 'k': 5}\n",
      "{'query': 'learn SQL', 'k': 5}\n",
      "{'query': 'learn SQL', 'k': 5}\n"
     ]
    },
    {
     "name": "stderr",
     "output_type": "stream",
     "text": [
      "127.0.0.1 - - [24/Feb/2023 22:10:21] \"POST /colbert HTTP/1.1\" 201 -\n",
      "127.0.0.1 - - [24/Feb/2023 22:10:21] \"POST /colbert HTTP/1.1\" 201 -\n",
      "127.0.0.1 - - [24/Feb/2023 22:10:21] \"POST /colbert HTTP/1.1\" 201 -\n",
      "127.0.0.1 - - [24/Feb/2023 22:10:21] \"POST /colbert HTTP/1.1\" 201 -\n",
      "127.0.0.1 - - [24/Feb/2023 22:10:21] \"POST /colbert HTTP/1.1\" 201 -\n",
      "127.0.0.1 - - [24/Feb/2023 22:10:21] \"POST /colbert HTTP/1.1\" 201 -\n",
      "127.0.0.1 - - [24/Feb/2023 22:10:21] \"POST /colbert HTTP/1.1\" 201 -\n",
      "127.0.0.1 - - [24/Feb/2023 22:10:21] \"POST /colbert HTTP/1.1\" 201 -\n",
      "127.0.0.1 - - [24/Feb/2023 22:10:21] \"POST /colbert HTTP/1.1\" 201 -\n",
      "127.0.0.1 - - [24/Feb/2023 22:10:21] \"POST /colbert HTTP/1.1\" 201 -\n",
      "127.0.0.1 - - [24/Feb/2023 22:10:21] \"POST /colbert HTTP/1.1\" 201 -\n",
      "127.0.0.1 - - [24/Feb/2023 22:10:21] \"POST /colbert HTTP/1.1\" 201 -\n"
     ]
    },
    {
     "name": "stdout",
     "output_type": "stream",
     "text": [
      "{'query': 'learn SQL', 'k': 5}\n",
      "{'query': 'learn SQL', 'k': 5}\n",
      "{'query': 'learn SQL', 'k': 5}\n",
      "{'query': 'learn SQL', 'k': 5}\n",
      "{'query': 'learn SQL', 'k': 5}\n",
      "{'query': 'learn SQL', 'k': 5}\n",
      "{'query': 'learn SQL', 'k': 5}\n",
      "{'query': 'learn SQL', 'k': 5}\n",
      "{'query': 'learn SQL', 'k': 5}\n",
      "{'query': 'learn SQL', 'k': 5}\n",
      "{'query': 'learn SQL', 'k': 5}\n",
      "{'query': 'learn SQL', 'k': 5}\n"
     ]
    },
    {
     "name": "stderr",
     "output_type": "stream",
     "text": [
      "127.0.0.1 - - [24/Feb/2023 22:10:21] \"POST /colbert HTTP/1.1\" 201 -\n",
      "127.0.0.1 - - [24/Feb/2023 22:10:21] \"POST /colbert HTTP/1.1\" 201 -\n",
      "127.0.0.1 - - [24/Feb/2023 22:10:21] \"POST /colbert HTTP/1.1\" 201 -\n",
      "127.0.0.1 - - [24/Feb/2023 22:10:21] \"POST /colbert HTTP/1.1\" 201 -\n",
      "127.0.0.1 - - [24/Feb/2023 22:10:21] \"POST /colbert HTTP/1.1\" 201 -\n",
      "127.0.0.1 - - [24/Feb/2023 22:10:21] \"POST /colbert HTTP/1.1\" 201 -\n",
      "127.0.0.1 - - [24/Feb/2023 22:10:21] \"POST /colbert HTTP/1.1\" 201 -\n",
      "127.0.0.1 - - [24/Feb/2023 22:10:21] \"POST /colbert HTTP/1.1\" 201 -\n",
      "127.0.0.1 - - [24/Feb/2023 22:10:21] \"POST /colbert HTTP/1.1\" 201 -\n",
      "127.0.0.1 - - [24/Feb/2023 22:10:21] \"POST /colbert HTTP/1.1\" 201 -\n",
      "127.0.0.1 - - [24/Feb/2023 22:10:21] \"POST /colbert HTTP/1.1\" 201 -\n",
      "127.0.0.1 - - [24/Feb/2023 22:10:21] \"POST /colbert HTTP/1.1\" 201 -\n"
     ]
    },
    {
     "name": "stdout",
     "output_type": "stream",
     "text": [
      "{'query': 'learn SQL', 'k': 5}\n",
      "{'query': 'learn SQL', 'k': 5}\n",
      "{'query': 'learn SQL', 'k': 5}\n",
      "{'query': 'learn SQL', 'k': 5}\n",
      "{'query': 'learn SQL', 'k': 5}\n",
      "{'query': 'learn SQL', 'k': 5}\n",
      "{'query': 'learn SQL', 'k': 5}\n",
      "{'query': 'learn SQL', 'k': 5}\n",
      "{'query': 'learn SQL', 'k': 5}\n",
      "{'query': 'learn SQL', 'k': 5}\n",
      "{'query': 'learn SQL', 'k': 5}\n",
      "{'query': 'learn SQL', 'k': 5}\n"
     ]
    },
    {
     "name": "stderr",
     "output_type": "stream",
     "text": [
      "127.0.0.1 - - [24/Feb/2023 22:10:21] \"POST /colbert HTTP/1.1\" 201 -\n",
      "127.0.0.1 - - [24/Feb/2023 22:10:21] \"POST /colbert HTTP/1.1\" 201 -\n",
      "127.0.0.1 - - [24/Feb/2023 22:10:21] \"POST /colbert HTTP/1.1\" 201 -\n",
      "127.0.0.1 - - [24/Feb/2023 22:10:21] \"POST /colbert HTTP/1.1\" 201 -\n",
      "127.0.0.1 - - [24/Feb/2023 22:10:21] \"POST /colbert HTTP/1.1\" 201 -\n",
      "127.0.0.1 - - [24/Feb/2023 22:10:21] \"POST /colbert HTTP/1.1\" 201 -\n",
      "127.0.0.1 - - [24/Feb/2023 22:10:21] \"POST /colbert HTTP/1.1\" 201 -\n",
      "127.0.0.1 - - [24/Feb/2023 22:10:21] \"POST /colbert HTTP/1.1\" 201 -\n",
      "127.0.0.1 - - [24/Feb/2023 22:10:21] \"POST /colbert HTTP/1.1\" 201 -\n",
      "127.0.0.1 - - [24/Feb/2023 22:10:22] \"POST /colbert HTTP/1.1\" 201 -\n",
      "127.0.0.1 - - [24/Feb/2023 22:10:22] \"POST /colbert HTTP/1.1\" 201 -\n",
      "127.0.0.1 - - [24/Feb/2023 22:10:22] \"POST /colbert HTTP/1.1\" 201 -\n"
     ]
    },
    {
     "name": "stdout",
     "output_type": "stream",
     "text": [
      "{'query': 'learn SQL', 'k': 5}\n",
      "{'query': 'learn SQL', 'k': 5}\n",
      "{'query': 'learn SQL', 'k': 5}\n",
      "{'query': 'learn SQL', 'k': 5}\n",
      "{'query': 'learn SQL', 'k': 5}\n",
      "{'query': 'learn SQL', 'k': 5}\n",
      "{'query': 'learn SQL', 'k': 5}\n",
      "{'query': 'learn SQL', 'k': 5}\n",
      "{'query': 'learn SQL', 'k': 5}\n",
      "{'query': 'learn SQL', 'k': 5}\n",
      "{'query': 'learn SQL', 'k': 5}\n",
      "{'query': 'learn SQL', 'k': 5}\n"
     ]
    },
    {
     "name": "stderr",
     "output_type": "stream",
     "text": [
      "127.0.0.1 - - [24/Feb/2023 22:10:22] \"POST /colbert HTTP/1.1\" 201 -\n",
      "127.0.0.1 - - [24/Feb/2023 22:10:22] \"POST /colbert HTTP/1.1\" 201 -\n",
      "127.0.0.1 - - [24/Feb/2023 22:10:22] \"POST /colbert HTTP/1.1\" 201 -\n",
      "127.0.0.1 - - [24/Feb/2023 22:10:22] \"POST /colbert HTTP/1.1\" 201 -\n",
      "127.0.0.1 - - [24/Feb/2023 22:10:22] \"POST /colbert HTTP/1.1\" 201 -\n",
      "127.0.0.1 - - [24/Feb/2023 22:10:22] \"POST /colbert HTTP/1.1\" 201 -\n",
      "127.0.0.1 - - [24/Feb/2023 22:10:22] \"POST /colbert HTTP/1.1\" 201 -\n"
     ]
    },
    {
     "name": "stdout",
     "output_type": "stream",
     "text": [
      "{'query': 'learn SQL', 'k': 5}\n",
      "{'query': 'learn SQL', 'k': 5}\n",
      "{'query': 'learn SQL', 'k': 5}\n",
      "{'query': 'learn SQL', 'k': 5}\n",
      "{'query': 'learn SQL', 'k': 5}\n",
      "{'query': 'learn SQL', 'k': 5}\n",
      "{'query': 'learn SQL', 'k': 5}\n"
     ]
    },
    {
     "name": "stderr",
     "output_type": "stream",
     "text": [
      "127.0.0.1 - - [24/Feb/2023 22:10:30] \"POST /colbert HTTP/1.1\" 201 -\n",
      "127.0.0.1 - - [24/Feb/2023 22:10:30] \"POST /colbert HTTP/1.1\" 201 -\n",
      "127.0.0.1 - - [24/Feb/2023 22:10:31] \"POST /colbert HTTP/1.1\" 201 -\n",
      "127.0.0.1 - - [24/Feb/2023 22:10:31] \"POST /colbert HTTP/1.1\" 201 -\n",
      "127.0.0.1 - - [24/Feb/2023 22:10:31] \"POST /colbert HTTP/1.1\" 201 -\n",
      "127.0.0.1 - - [24/Feb/2023 22:10:31] \"POST /colbert HTTP/1.1\" 201 -\n",
      "127.0.0.1 - - [24/Feb/2023 22:10:31] \"POST /colbert HTTP/1.1\" 201 -\n",
      "127.0.0.1 - - [24/Feb/2023 22:10:31] \"POST /colbert HTTP/1.1\" 201 -\n",
      "127.0.0.1 - - [24/Feb/2023 22:10:31] \"POST /colbert HTTP/1.1\" 201 -\n",
      "127.0.0.1 - - [24/Feb/2023 22:10:31] \"POST /colbert HTTP/1.1\" 201 -\n"
     ]
    },
    {
     "name": "stdout",
     "output_type": "stream",
     "text": [
      "{'query': 'learn SQL', 'k': 5}\n",
      "{'query': 'learn SQL', 'k': 5}\n",
      "{'query': 'learn SQL', 'k': 5}\n",
      "{'query': 'learn SQL', 'k': 5}\n",
      "{'query': 'learn SQL', 'k': 5}\n",
      "{'query': 'learn SQL', 'k': 5}\n",
      "{'query': 'learn SQL', 'k': 5}\n",
      "{'query': 'learn SQL', 'k': 5}\n",
      "{'query': 'learn SQL', 'k': 5}\n",
      "{'query': 'learn SQL', 'k': 5}\n"
     ]
    },
    {
     "name": "stderr",
     "output_type": "stream",
     "text": [
      "127.0.0.1 - - [24/Feb/2023 22:10:31] \"POST /colbert HTTP/1.1\" 201 -\n",
      "127.0.0.1 - - [24/Feb/2023 22:10:31] \"POST /colbert HTTP/1.1\" 201 -\n",
      "127.0.0.1 - - [24/Feb/2023 22:10:31] \"POST /colbert HTTP/1.1\" 201 -\n",
      "127.0.0.1 - - [24/Feb/2023 22:10:31] \"POST /colbert HTTP/1.1\" 201 -\n",
      "127.0.0.1 - - [24/Feb/2023 22:10:31] \"POST /colbert HTTP/1.1\" 201 -\n",
      "127.0.0.1 - - [24/Feb/2023 22:10:31] \"POST /colbert HTTP/1.1\" 201 -\n",
      "127.0.0.1 - - [24/Feb/2023 22:10:31] \"POST /colbert HTTP/1.1\" 201 -\n",
      "127.0.0.1 - - [24/Feb/2023 22:10:31] \"POST /colbert HTTP/1.1\" 201 -\n",
      "127.0.0.1 - - [24/Feb/2023 22:10:31] \"POST /colbert HTTP/1.1\" 201 -\n",
      "127.0.0.1 - - [24/Feb/2023 22:10:31] \"POST /colbert HTTP/1.1\" 201 -\n",
      "127.0.0.1 - - [24/Feb/2023 22:10:31] \"POST /colbert HTTP/1.1\" 201 -\n",
      "127.0.0.1 - - [24/Feb/2023 22:10:31] \"POST /colbert HTTP/1.1\" 201 -\n"
     ]
    },
    {
     "name": "stdout",
     "output_type": "stream",
     "text": [
      "{'query': 'learn SQL', 'k': 5}\n",
      "{'query': 'learn SQL', 'k': 5}\n",
      "{'query': 'learn SQL', 'k': 5}\n",
      "{'query': 'learn SQL', 'k': 5}\n",
      "{'query': 'learn SQL', 'k': 5}\n",
      "{'query': 'learn SQL', 'k': 5}\n",
      "{'query': 'learn SQL', 'k': 5}\n",
      "{'query': 'learn SQL', 'k': 5}\n",
      "{'query': 'learn SQL', 'k': 5}\n",
      "{'query': 'learn SQL', 'k': 5}\n",
      "{'query': 'learn SQL', 'k': 5}\n",
      "{'query': 'learn SQL', 'k': 5}\n"
     ]
    },
    {
     "name": "stderr",
     "output_type": "stream",
     "text": [
      "127.0.0.1 - - [24/Feb/2023 22:10:31] \"POST /colbert HTTP/1.1\" 201 -\n",
      "127.0.0.1 - - [24/Feb/2023 22:10:31] \"POST /colbert HTTP/1.1\" 201 -\n",
      "127.0.0.1 - - [24/Feb/2023 22:10:31] \"POST /colbert HTTP/1.1\" 201 -\n",
      "127.0.0.1 - - [24/Feb/2023 22:10:31] \"POST /colbert HTTP/1.1\" 201 -\n",
      "127.0.0.1 - - [24/Feb/2023 22:10:31] \"POST /colbert HTTP/1.1\" 201 -\n",
      "127.0.0.1 - - [24/Feb/2023 22:10:31] \"POST /colbert HTTP/1.1\" 201 -\n",
      "127.0.0.1 - - [24/Feb/2023 22:10:31] \"POST /colbert HTTP/1.1\" 201 -\n",
      "127.0.0.1 - - [24/Feb/2023 22:10:31] \"POST /colbert HTTP/1.1\" 201 -\n",
      "127.0.0.1 - - [24/Feb/2023 22:10:31] \"POST /colbert HTTP/1.1\" 201 -\n",
      "127.0.0.1 - - [24/Feb/2023 22:10:31] \"POST /colbert HTTP/1.1\" 201 -\n",
      "127.0.0.1 - - [24/Feb/2023 22:10:31] \"POST /colbert HTTP/1.1\" 201 -\n",
      "127.0.0.1 - - [24/Feb/2023 22:10:31] \"POST /colbert HTTP/1.1\" 201 -\n"
     ]
    },
    {
     "name": "stdout",
     "output_type": "stream",
     "text": [
      "{'query': 'learn SQL', 'k': 5}\n",
      "{'query': 'learn SQL', 'k': 5}\n",
      "{'query': 'learn SQL', 'k': 5}\n",
      "{'query': 'learn SQL', 'k': 5}\n",
      "{'query': 'learn SQL', 'k': 5}\n",
      "{'query': 'learn SQL', 'k': 5}\n",
      "{'query': 'learn SQL', 'k': 5}\n",
      "{'query': 'learn SQL', 'k': 5}\n",
      "{'query': 'learn SQL', 'k': 5}\n",
      "{'query': 'learn SQL', 'k': 5}\n",
      "{'query': 'learn SQL', 'k': 5}\n",
      "{'query': 'learn SQL', 'k': 5}\n"
     ]
    },
    {
     "name": "stderr",
     "output_type": "stream",
     "text": [
      "127.0.0.1 - - [24/Feb/2023 22:10:31] \"POST /colbert HTTP/1.1\" 201 -\n",
      "127.0.0.1 - - [24/Feb/2023 22:10:31] \"POST /colbert HTTP/1.1\" 201 -\n",
      "127.0.0.1 - - [24/Feb/2023 22:10:31] \"POST /colbert HTTP/1.1\" 201 -\n",
      "127.0.0.1 - - [24/Feb/2023 22:10:31] \"POST /colbert HTTP/1.1\" 201 -\n",
      "127.0.0.1 - - [24/Feb/2023 22:10:31] \"POST /colbert HTTP/1.1\" 201 -\n",
      "127.0.0.1 - - [24/Feb/2023 22:10:31] \"POST /colbert HTTP/1.1\" 201 -\n",
      "127.0.0.1 - - [24/Feb/2023 22:10:31] \"POST /colbert HTTP/1.1\" 201 -\n",
      "127.0.0.1 - - [24/Feb/2023 22:10:31] \"POST /colbert HTTP/1.1\" 201 -\n",
      "127.0.0.1 - - [24/Feb/2023 22:10:31] \"POST /colbert HTTP/1.1\" 201 -\n",
      "127.0.0.1 - - [24/Feb/2023 22:10:31] \"POST /colbert HTTP/1.1\" 201 -\n",
      "127.0.0.1 - - [24/Feb/2023 22:10:31] \"POST /colbert HTTP/1.1\" 201 -\n",
      "127.0.0.1 - - [24/Feb/2023 22:10:31] \"POST /colbert HTTP/1.1\" 201 -\n"
     ]
    },
    {
     "name": "stdout",
     "output_type": "stream",
     "text": [
      "{'query': 'learn SQL', 'k': 5}\n",
      "{'query': 'learn SQL', 'k': 5}\n",
      "{'query': 'learn SQL', 'k': 5}\n",
      "{'query': 'learn SQL', 'k': 5}\n",
      "{'query': 'learn SQL', 'k': 5}\n",
      "{'query': 'learn SQL', 'k': 5}\n",
      "{'query': 'learn SQL', 'k': 5}\n",
      "{'query': 'learn SQL', 'k': 5}\n",
      "{'query': 'learn SQL', 'k': 5}\n",
      "{'query': 'learn SQL', 'k': 5}\n",
      "{'query': 'learn SQL', 'k': 5}\n",
      "{'query': 'learn SQL', 'k': 5}\n"
     ]
    },
    {
     "name": "stderr",
     "output_type": "stream",
     "text": [
      "127.0.0.1 - - [24/Feb/2023 22:10:31] \"POST /colbert HTTP/1.1\" 201 -\n",
      "127.0.0.1 - - [24/Feb/2023 22:10:31] \"POST /colbert HTTP/1.1\" 201 -\n",
      "127.0.0.1 - - [24/Feb/2023 22:10:31] \"POST /colbert HTTP/1.1\" 201 -\n",
      "127.0.0.1 - - [24/Feb/2023 22:10:31] \"POST /colbert HTTP/1.1\" 201 -\n",
      "127.0.0.1 - - [24/Feb/2023 22:10:31] \"POST /colbert HTTP/1.1\" 201 -\n",
      "127.0.0.1 - - [24/Feb/2023 22:10:31] \"POST /colbert HTTP/1.1\" 201 -\n",
      "127.0.0.1 - - [24/Feb/2023 22:10:31] \"POST /colbert HTTP/1.1\" 201 -\n",
      "127.0.0.1 - - [24/Feb/2023 22:10:31] \"POST /colbert HTTP/1.1\" 201 -\n",
      "127.0.0.1 - - [24/Feb/2023 22:10:31] \"POST /colbert HTTP/1.1\" 201 -\n",
      "127.0.0.1 - - [24/Feb/2023 22:10:31] \"POST /colbert HTTP/1.1\" 201 -\n",
      "127.0.0.1 - - [24/Feb/2023 22:10:31] \"POST /colbert HTTP/1.1\" 201 -\n",
      "127.0.0.1 - - [24/Feb/2023 22:10:32] \"POST /colbert HTTP/1.1\" 201 -\n"
     ]
    },
    {
     "name": "stdout",
     "output_type": "stream",
     "text": [
      "{'query': 'learn SQL', 'k': 5}\n",
      "{'query': 'learn SQL', 'k': 5}\n",
      "{'query': 'learn SQL', 'k': 5}\n",
      "{'query': 'learn SQL', 'k': 5}\n",
      "{'query': 'learn SQL', 'k': 5}\n",
      "{'query': 'learn SQL', 'k': 5}\n",
      "{'query': 'learn SQL', 'k': 5}\n",
      "{'query': 'learn SQL', 'k': 5}\n",
      "{'query': 'learn SQL', 'k': 5}\n",
      "{'query': 'learn SQL', 'k': 5}\n",
      "{'query': 'learn SQL', 'k': 5}\n",
      "{'query': 'learn SQL', 'k': 5}\n"
     ]
    },
    {
     "name": "stderr",
     "output_type": "stream",
     "text": [
      "127.0.0.1 - - [24/Feb/2023 22:10:32] \"POST /colbert HTTP/1.1\" 201 -\n",
      "127.0.0.1 - - [24/Feb/2023 22:10:32] \"POST /colbert HTTP/1.1\" 201 -\n",
      "127.0.0.1 - - [24/Feb/2023 22:10:32] \"POST /colbert HTTP/1.1\" 201 -\n",
      "127.0.0.1 - - [24/Feb/2023 22:10:32] \"POST /colbert HTTP/1.1\" 201 -\n",
      "127.0.0.1 - - [24/Feb/2023 22:10:32] \"POST /colbert HTTP/1.1\" 201 -\n",
      "127.0.0.1 - - [24/Feb/2023 22:10:32] \"POST /colbert HTTP/1.1\" 201 -\n",
      "127.0.0.1 - - [24/Feb/2023 22:10:32] \"POST /colbert HTTP/1.1\" 201 -\n",
      "127.0.0.1 - - [24/Feb/2023 22:10:32] \"POST /colbert HTTP/1.1\" 201 -\n",
      "127.0.0.1 - - [24/Feb/2023 22:10:32] \"POST /colbert HTTP/1.1\" 201 -\n",
      "127.0.0.1 - - [24/Feb/2023 22:10:32] \"POST /colbert HTTP/1.1\" 201 -\n",
      "127.0.0.1 - - [24/Feb/2023 22:10:32] \"POST /colbert HTTP/1.1\" 201 -\n"
     ]
    },
    {
     "name": "stdout",
     "output_type": "stream",
     "text": [
      "{'query': 'learn SQL', 'k': 5}\n",
      "{'query': 'learn SQL', 'k': 5}\n",
      "{'query': 'learn SQL', 'k': 5}\n",
      "{'query': 'learn SQL', 'k': 5}\n",
      "{'query': 'learn SQL', 'k': 5}\n",
      "{'query': 'learn SQL', 'k': 5}\n",
      "{'query': 'learn SQL', 'k': 5}\n",
      "{'query': 'learn SQL', 'k': 5}\n",
      "{'query': 'learn SQL', 'k': 5}\n",
      "{'query': 'learn SQL', 'k': 5}\n",
      "{'query': 'learn SQL', 'k': 5}\n"
     ]
    },
    {
     "name": "stderr",
     "output_type": "stream",
     "text": [
      "127.0.0.1 - - [24/Feb/2023 22:10:32] \"POST /colbert HTTP/1.1\" 201 -\n",
      "127.0.0.1 - - [24/Feb/2023 22:10:32] \"POST /colbert HTTP/1.1\" 201 -\n",
      "127.0.0.1 - - [24/Feb/2023 22:10:32] \"POST /colbert HTTP/1.1\" 201 -\n",
      "127.0.0.1 - - [24/Feb/2023 22:10:32] \"POST /colbert HTTP/1.1\" 201 -\n",
      "127.0.0.1 - - [24/Feb/2023 22:10:32] \"POST /colbert HTTP/1.1\" 201 -\n",
      "127.0.0.1 - - [24/Feb/2023 22:10:32] \"POST /colbert HTTP/1.1\" 201 -\n",
      "127.0.0.1 - - [24/Feb/2023 22:10:32] \"POST /colbert HTTP/1.1\" 201 -\n",
      "127.0.0.1 - - [24/Feb/2023 22:10:32] \"POST /colbert HTTP/1.1\" 201 -\n",
      "127.0.0.1 - - [24/Feb/2023 22:10:32] \"POST /colbert HTTP/1.1\" 201 -\n",
      "127.0.0.1 - - [24/Feb/2023 22:10:32] \"POST /colbert HTTP/1.1\" 201 -\n",
      "127.0.0.1 - - [24/Feb/2023 22:10:32] \"POST /colbert HTTP/1.1\" 201 -\n",
      "127.0.0.1 - - [24/Feb/2023 22:10:32] \"POST /colbert HTTP/1.1\" 201 -\n"
     ]
    },
    {
     "name": "stdout",
     "output_type": "stream",
     "text": [
      "{'query': 'learn SQL', 'k': 5}\n",
      "{'query': 'learn SQL', 'k': 5}\n",
      "{'query': 'learn SQL', 'k': 5}\n",
      "{'query': 'learn SQL', 'k': 5}\n",
      "{'query': 'learn SQL', 'k': 5}\n",
      "{'query': 'learn SQL', 'k': 5}\n",
      "{'query': 'learn SQL', 'k': 5}\n",
      "{'query': 'learn SQL', 'k': 5}\n",
      "{'query': 'learn SQL', 'k': 5}\n",
      "{'query': 'learn SQL', 'k': 5}\n",
      "{'query': 'learn SQL', 'k': 5}\n",
      "{'query': 'learn SQL', 'k': 5}\n"
     ]
    },
    {
     "name": "stderr",
     "output_type": "stream",
     "text": [
      "127.0.0.1 - - [24/Feb/2023 22:10:32] \"POST /colbert HTTP/1.1\" 201 -\n",
      "127.0.0.1 - - [24/Feb/2023 22:10:32] \"POST /colbert HTTP/1.1\" 201 -\n",
      "127.0.0.1 - - [24/Feb/2023 22:10:32] \"POST /colbert HTTP/1.1\" 201 -\n",
      "127.0.0.1 - - [24/Feb/2023 22:10:32] \"POST /colbert HTTP/1.1\" 201 -\n",
      "127.0.0.1 - - [24/Feb/2023 22:10:32] \"POST /colbert HTTP/1.1\" 201 -\n",
      "127.0.0.1 - - [24/Feb/2023 22:10:32] \"POST /colbert HTTP/1.1\" 201 -\n",
      "127.0.0.1 - - [24/Feb/2023 22:10:32] \"POST /colbert HTTP/1.1\" 201 -\n",
      "127.0.0.1 - - [24/Feb/2023 22:10:32] \"POST /colbert HTTP/1.1\" 201 -\n",
      "127.0.0.1 - - [24/Feb/2023 22:10:32] \"POST /colbert HTTP/1.1\" 201 -\n",
      "127.0.0.1 - - [24/Feb/2023 22:10:32] \"POST /colbert HTTP/1.1\" 201 -\n",
      "127.0.0.1 - - [24/Feb/2023 22:10:32] \"POST /colbert HTTP/1.1\" 201 -\n",
      "127.0.0.1 - - [24/Feb/2023 22:10:32] \"POST /colbert HTTP/1.1\" 201 -\n"
     ]
    },
    {
     "name": "stdout",
     "output_type": "stream",
     "text": [
      "{'query': 'learn SQL', 'k': 5}\n",
      "{'query': 'learn SQL', 'k': 5}\n",
      "{'query': 'learn SQL', 'k': 5}\n",
      "{'query': 'learn SQL', 'k': 5}\n",
      "{'query': 'learn SQL', 'k': 5}\n",
      "{'query': 'learn SQL', 'k': 5}\n",
      "{'query': 'learn SQL', 'k': 5}\n",
      "{'query': 'learn SQL', 'k': 5}\n",
      "{'query': 'learn SQL', 'k': 5}\n",
      "{'query': 'learn SQL', 'k': 5}\n",
      "{'query': 'learn SQL', 'k': 5}\n",
      "{'query': 'learn SQL', 'k': 5}\n"
     ]
    },
    {
     "name": "stderr",
     "output_type": "stream",
     "text": [
      "127.0.0.1 - - [24/Feb/2023 22:10:32] \"POST /colbert HTTP/1.1\" 201 -\n",
      "127.0.0.1 - - [24/Feb/2023 22:10:32] \"POST /colbert HTTP/1.1\" 201 -\n",
      "127.0.0.1 - - [24/Feb/2023 22:10:32] \"POST /colbert HTTP/1.1\" 201 -\n",
      "127.0.0.1 - - [24/Feb/2023 22:10:32] \"POST /colbert HTTP/1.1\" 201 -\n",
      "127.0.0.1 - - [24/Feb/2023 22:10:32] \"POST /colbert HTTP/1.1\" 201 -\n",
      "127.0.0.1 - - [24/Feb/2023 22:10:32] \"POST /colbert HTTP/1.1\" 201 -\n",
      "127.0.0.1 - - [24/Feb/2023 22:10:32] \"POST /colbert HTTP/1.1\" 201 -\n"
     ]
    },
    {
     "name": "stdout",
     "output_type": "stream",
     "text": [
      "{'query': 'learn SQL', 'k': 5}\n",
      "{'query': 'learn SQL', 'k': 5}\n",
      "{'query': 'learn SQL', 'k': 5}\n",
      "{'query': 'learn SQL', 'k': 5}\n",
      "{'query': 'learn SQL', 'k': 5}\n",
      "{'query': 'learn SQL', 'k': 5}\n",
      "{'query': 'learn SQL', 'k': 5}\n"
     ]
    },
    {
     "ename": "KeyboardInterrupt",
     "evalue": "",
     "output_type": "error",
     "traceback": [
      "\u001b[0;31m---------------------------------------------------------------------------\u001b[0m",
      "\u001b[0;31mKeyboardInterrupt\u001b[0m                         Traceback (most recent call last)",
      "Cell \u001b[0;32mIn[2], line 36\u001b[0m\n\u001b[1;32m     34\u001b[0m \u001b[39mif\u001b[39;00m \u001b[39m__name__\u001b[39m \u001b[39m==\u001b[39m \u001b[39m\"\u001b[39m\u001b[39m__main__\u001b[39m\u001b[39m\"\u001b[39m:\n\u001b[1;32m     35\u001b[0m     httpd \u001b[39m=\u001b[39m HTTPServer((\u001b[39m'\u001b[39m\u001b[39mlocalhost\u001b[39m\u001b[39m'\u001b[39m, \u001b[39m30003\u001b[39m), ColBERTTest)\n\u001b[0;32m---> 36\u001b[0m     httpd\u001b[39m.\u001b[39;49mserve_forever()\n",
      "File \u001b[0;32m~/miniconda3/envs/colbert/lib/python3.8/socketserver.py:232\u001b[0m, in \u001b[0;36mBaseServer.serve_forever\u001b[0;34m(self, poll_interval)\u001b[0m\n\u001b[1;32m    229\u001b[0m selector\u001b[39m.\u001b[39mregister(\u001b[39mself\u001b[39m, selectors\u001b[39m.\u001b[39mEVENT_READ)\n\u001b[1;32m    231\u001b[0m \u001b[39mwhile\u001b[39;00m \u001b[39mnot\u001b[39;00m \u001b[39mself\u001b[39m\u001b[39m.\u001b[39m__shutdown_request:\n\u001b[0;32m--> 232\u001b[0m     ready \u001b[39m=\u001b[39m selector\u001b[39m.\u001b[39;49mselect(poll_interval)\n\u001b[1;32m    233\u001b[0m     \u001b[39m# bpo-35017: shutdown() called during select(), exit immediately.\u001b[39;00m\n\u001b[1;32m    234\u001b[0m     \u001b[39mif\u001b[39;00m \u001b[39mself\u001b[39m\u001b[39m.\u001b[39m__shutdown_request:\n",
      "File \u001b[0;32m~/miniconda3/envs/colbert/lib/python3.8/selectors.py:415\u001b[0m, in \u001b[0;36m_PollLikeSelector.select\u001b[0;34m(self, timeout)\u001b[0m\n\u001b[1;32m    413\u001b[0m ready \u001b[39m=\u001b[39m []\n\u001b[1;32m    414\u001b[0m \u001b[39mtry\u001b[39;00m:\n\u001b[0;32m--> 415\u001b[0m     fd_event_list \u001b[39m=\u001b[39m \u001b[39mself\u001b[39;49m\u001b[39m.\u001b[39;49m_selector\u001b[39m.\u001b[39;49mpoll(timeout)\n\u001b[1;32m    416\u001b[0m \u001b[39mexcept\u001b[39;00m \u001b[39mInterruptedError\u001b[39;00m:\n\u001b[1;32m    417\u001b[0m     \u001b[39mreturn\u001b[39;00m ready\n",
      "\u001b[0;31mKeyboardInterrupt\u001b[0m: "
     ]
    }
   ],
   "source": [
    "from http.server import HTTPServer, BaseHTTPRequestHandler\n",
    "import json\n",
    "\n",
    "class ColBERTTest(BaseHTTPRequestHandler):\n",
    "\n",
    "    def do_POST(self):\n",
    "        self.send_response(201)\n",
    "        self.send_header('Content-type', 'application/json; charset=utf-8')\n",
    "        self.end_headers()\n",
    "        content_length = int(self.headers['Content-Length'])\n",
    "\n",
    "        body = self.rfile.read(content_length).decode('utf8')\n",
    "        data = json.loads(body)\n",
    "        # print(data)\n",
    "\n",
    "        # >>> your codes goes here, replace the random numbers with search results >>>\n",
    "        query = data['query']\n",
    "        k = int(data['k'])\n",
    "        results = searcher.search(query, k=k)\n",
    "        # query = \"Chinese cooking recepit\"\n",
    "        # k = 3\n",
    "        # print(f\"#> {query}\")\n",
    "        rank_info_books = {}\n",
    "        for passage_id, passage_rank, passage_score in zip(*results):\n",
    "            book_id = id_pid[str(passage_id)]\n",
    "            rank_info_books[book_id] = \"{:.1f}\".format(passage_score)\n",
    "        response = {'rank_info_books': rank_info_books}\n",
    "        # <<< @Xiaochen Zhang <<<\n",
    "\n",
    "        jstring = json.dumps(response, ensure_ascii=False).encode('utf-8')\n",
    "        self.wfile.write(jstring)\n",
    "\n",
    "\n",
    "if __name__ == \"__main__\":\n",
    "    httpd = HTTPServer(('localhost', 30003), ColBERTTest)\n",
    "    httpd.serve_forever()"
   ]
  }
 ],
 "metadata": {
  "kernelspec": {
   "display_name": "colbert",
   "language": "python",
   "name": "python3"
  },
  "language_info": {
   "codemirror_mode": {
    "name": "ipython",
    "version": 3
   },
   "file_extension": ".py",
   "mimetype": "text/x-python",
   "name": "python",
   "nbconvert_exporter": "python",
   "pygments_lexer": "ipython3",
   "version": "3.8.16"
  },
  "orig_nbformat": 4,
  "vscode": {
   "interpreter": {
    "hash": "0186bf77638ac6516a4e096e081401fda36c794ac3345426ec5ba5ecb375059e"
   }
  }
 },
 "nbformat": 4,
 "nbformat_minor": 2
}
