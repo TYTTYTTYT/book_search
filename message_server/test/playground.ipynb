{
 "cells": [
  {
   "cell_type": "code",
   "execution_count": 69,
   "metadata": {},
   "outputs": [],
   "source": [
    "from urllib import request\n",
    "from tqdm import tqdm\n",
    "import json"
   ]
  },
  {
   "cell_type": "code",
   "execution_count": 76,
   "metadata": {},
   "outputs": [],
   "source": [
    "data = {\n",
    "    \"uid\": 323123,\n",
    "    \"query\": \"what is that这是哦爱我发觉我i\",\n",
    "    \"query_type\": \"boolean\",\n",
    "    \"result_range\": [0, 15]\n",
    "    }\n",
    "data = json.dumps(data, ensure_ascii=False).encode('utf8')"
   ]
  },
  {
   "cell_type": "code",
   "execution_count": 77,
   "metadata": {},
   "outputs": [],
   "source": [
    "r = request.Request('http://127.0.0.1:8080/search', data=data, headers={'Content-Type': 'application/json'}, method=\"GET\")"
   ]
  },
  {
   "cell_type": "code",
   "execution_count": 93,
   "metadata": {},
   "outputs": [
    {
     "name": "stderr",
     "output_type": "stream",
     "text": [
      "100%|██████████| 100/100 [00:00<00:00, 1664.33it/s]\n"
     ]
    }
   ],
   "source": [
    "counter = 0\n",
    "for i in tqdm(range(0, 100)):\n",
    "    data = {\n",
    "        \"uid\": i,\n",
    "        \"query\": \"what is that这是哦爱我发觉我i\",\n",
    "        \"query_type\": \"boolean\",\n",
    "        \"result_range\": [0, 15]\n",
    "    }\n",
    "    data = json.dumps(data, ensure_ascii=False).encode('utf8')\n",
    "    r = request.Request('http://127.0.0.1:8080/search', data=data, headers={'Content-Type': 'application/json'}, method=\"GET\")\n",
    "    with request.urlopen(r) as f:\n",
    "        c = f.read().decode('utf-8')\n",
    "        counter += len(c)"
   ]
  },
  {
   "cell_type": "code",
   "execution_count": 94,
   "metadata": {},
   "outputs": [
    {
     "data": {
      "text/plain": [
       "'Hello what is that这是哦爱我发觉我i!'"
      ]
     },
     "execution_count": 94,
     "metadata": {},
     "output_type": "execute_result"
    }
   ],
   "source": [
    "c"
   ]
  },
  {
   "cell_type": "code",
   "execution_count": null,
   "metadata": {},
   "outputs": [],
   "source": []
  }
 ],
 "metadata": {
  "kernelspec": {
   "display_name": "ttds",
   "language": "python",
   "name": "python3"
  },
  "language_info": {
   "codemirror_mode": {
    "name": "ipython",
    "version": 3
   },
   "file_extension": ".py",
   "mimetype": "text/x-python",
   "name": "python",
   "nbconvert_exporter": "python",
   "pygments_lexer": "ipython3",
   "version": "3.10.4"
  },
  "orig_nbformat": 4,
  "vscode": {
   "interpreter": {
    "hash": "a7623d51d6ae599adea5a5c6aa509685e65f96c45698f457e4e53b1d35ec6011"
   }
  }
 },
 "nbformat": 4,
 "nbformat_minor": 2
}
