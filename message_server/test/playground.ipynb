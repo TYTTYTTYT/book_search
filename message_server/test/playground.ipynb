{
 "cells": [
  {
   "attachments": {},
   "cell_type": "markdown",
   "metadata": {},
   "source": [
    "# Testing Codes\n",
    "\n",
    "Test codes for:\n",
    "* database\n",
    "* index server\n",
    "* colBERT server\n",
    "* the Search method from web"
   ]
  },
  {
   "attachments": {},
   "cell_type": "markdown",
   "metadata": {},
   "source": [
    "## Search Test"
   ]
  },
  {
   "cell_type": "code",
   "execution_count": 1,
   "metadata": {},
   "outputs": [],
   "source": [
    "from urllib import request\n",
    "from tqdm import tqdm\n",
    "import json"
   ]
  },
  {
   "cell_type": "code",
   "execution_count": 2,
   "metadata": {},
   "outputs": [
    {
     "name": "stderr",
     "output_type": "stream",
     "text": [
      "100%|██████████| 1000/1000 [00:02<00:00, 359.88it/s]\n"
     ]
    }
   ],
   "source": [
    "counter = 0\n",
    "for i in tqdm(range(1000)):\n",
    "    data = {\n",
    "        \"uid\": i,\n",
    "        \"query\": \"what is that这是哦爱我发觉我i\",\n",
    "        \"query_type\": \"boolean\",\n",
    "        \"result_range\": [10, 25]\n",
    "    }\n",
    "    data = json.dumps(data, ensure_ascii=False).encode('utf8')\n",
    "    r = request.Request('http://127.0.0.1:8080/search', data=data, headers={'Content-Type': 'application/json; charset=utf-8'}, method=\"GET\")\n",
    "    with request.urlopen(r) as f:\n",
    "        c = f.read().decode('utf-8')\n",
    "        counter += len(c)"
   ]
  },
  {
   "cell_type": "code",
   "execution_count": 3,
   "metadata": {},
   "outputs": [
    {
     "name": "stdout",
     "output_type": "stream",
     "text": [
      "{\"isbn\": \"\", \"啦啦啦啦中文测试\": \"7\", \"series\": [\"189911\"], \"country_code\": \"US\", \"language_code\": \"eng\", \"popular_shelves\": [{\"count\": \"58\", \"name\": \"to-read\"}, {\"count\": \"15\", \"name\": \"fantasy\"}, {\"count\": \n"
     ]
    }
   ],
   "source": [
    "result = json.loads(c)\n",
    "print(result['result_list']['14'][:200])"
   ]
  },
  {
   "attachments": {},
   "cell_type": "markdown",
   "metadata": {},
   "source": [
    "## Database Test"
   ]
  },
  {
   "cell_type": "code",
   "execution_count": 4,
   "metadata": {},
   "outputs": [],
   "source": [
    "bookid_list = {\n",
    "    \"bookid_list\": list(range(15))\n",
    "}\n",
    "data = json.dumps(bookid_list, ensure_ascii=False).encode('utf8')\n",
    "r = request.Request('http://127.0.0.1:30001/database', data=data, headers={'Content-Type': 'application/json; charset=utf-8'}, method=\"POST\")"
   ]
  },
  {
   "cell_type": "code",
   "execution_count": 5,
   "metadata": {},
   "outputs": [
    {
     "name": "stderr",
     "output_type": "stream",
     "text": [
      "100%|██████████| 10000/10000 [00:05<00:00, 1827.15it/s]\n"
     ]
    }
   ],
   "source": [
    "for i in tqdm(range(10000)):\n",
    "    with request.urlopen(r) as f:\n",
    "        c = f.read().decode('utf-8')\n",
    "result = json.loads(c)\n"
   ]
  },
  {
   "cell_type": "code",
   "execution_count": 6,
   "metadata": {},
   "outputs": [
    {
     "name": "stdout",
     "output_type": "stream",
     "text": [
      "{\"isbn\": \"\", \"啦啦啦啦中文测试\": \"7\", \"series\": [\"189911\"], \"country_code\": \"US\", \"language_code\": \"eng\", \"popular_shelves\": [{\"count\": \"58\", \"name\": \"to-read\"}, {\"count\": \"15\", \"name\": \"fantasy\"}, {\"count\": \n"
     ]
    }
   ],
   "source": [
    "print(result['bookid_result_list']['12'][:200])"
   ]
  },
  {
   "attachments": {},
   "cell_type": "markdown",
   "metadata": {},
   "source": [
    "## Index Test"
   ]
  },
  {
   "cell_type": "code",
   "execution_count": 7,
   "metadata": {},
   "outputs": [],
   "source": [
    "body = {\n",
    "    \"query_type\": \"free\",\n",
    "    \"query\": \"来点中文试试😈😈awoiefjowafj query query #123\"\n",
    "}\n",
    "body = json.dumps(body, ensure_ascii=False).encode('utf8')\n",
    "r = request.Request('http://127.0.0.1:30002/index', data=body, headers={'Content-Type': 'application/json; charset=utf-8'}, method=\"POST\")"
   ]
  },
  {
   "cell_type": "code",
   "execution_count": 8,
   "metadata": {},
   "outputs": [
    {
     "name": "stderr",
     "output_type": "stream",
     "text": [
      "100%|██████████| 1000/1000 [00:09<00:00, 102.22it/s]\n"
     ]
    }
   ],
   "source": [
    "for i in tqdm(range(1000)):\n",
    "    with request.urlopen(r) as f:\n",
    "        c = f.read().decode('utf-8')\n",
    "result = json.loads(c)"
   ]
  },
  {
   "cell_type": "code",
   "execution_count": 9,
   "metadata": {},
   "outputs": [
    {
     "data": {
      "text/plain": [
       "[1000000, 1000001, 1000002, 1000003, 1000004]"
      ]
     },
     "execution_count": 9,
     "metadata": {},
     "output_type": "execute_result"
    }
   ],
   "source": [
    "result['bookid_list_ranked_long'][:5]"
   ]
  },
  {
   "attachments": {},
   "cell_type": "markdown",
   "metadata": {},
   "source": [
    "## colBERT Test"
   ]
  },
  {
   "cell_type": "code",
   "execution_count": 10,
   "metadata": {},
   "outputs": [],
   "source": [
    "body = {\n",
    "    \"bookid_list_ranked_short\": list(range(1000, 2000))\n",
    "}\n",
    "body = json.dumps(body, ensure_ascii=False).encode('utf8')\n",
    "r = request.Request('http://127.0.0.1:30003/colbert', data=body, headers={'Content-Type': 'application/json; charset=utf-8'}, method=\"POST\")"
   ]
  },
  {
   "cell_type": "code",
   "execution_count": 11,
   "metadata": {},
   "outputs": [
    {
     "name": "stderr",
     "output_type": "stream",
     "text": [
      "100%|██████████| 1000/1000 [00:00<00:00, 1848.32it/s]\n"
     ]
    }
   ],
   "source": [
    "for i in tqdm(range(1000)):\n",
    "    with request.urlopen(r) as f:\n",
    "        c = f.read().decode('utf-8')\n",
    "result = json.loads(c)"
   ]
  },
  {
   "cell_type": "code",
   "execution_count": 12,
   "metadata": {},
   "outputs": [
    {
     "name": "stdout",
     "output_type": "stream",
     "text": [
      "[1999, 1998, 1997, 1996, 1995]\n"
     ]
    }
   ],
   "source": [
    "print(result['bookid_list_reranked_short'][:5])"
   ]
  },
  {
   "cell_type": "code",
   "execution_count": null,
   "metadata": {},
   "outputs": [],
   "source": []
  }
 ],
 "metadata": {
  "kernelspec": {
   "display_name": "ttds",
   "language": "python",
   "name": "python3"
  },
  "language_info": {
   "codemirror_mode": {
    "name": "ipython",
    "version": 3
   },
   "file_extension": ".py",
   "mimetype": "text/x-python",
   "name": "python",
   "nbconvert_exporter": "python",
   "pygments_lexer": "ipython3",
   "version": "3.10.4"
  },
  "orig_nbformat": 4,
  "vscode": {
   "interpreter": {
    "hash": "a7623d51d6ae599adea5a5c6aa509685e65f96c45698f457e4e53b1d35ec6011"
   }
  }
 },
 "nbformat": 4,
 "nbformat_minor": 2
}
