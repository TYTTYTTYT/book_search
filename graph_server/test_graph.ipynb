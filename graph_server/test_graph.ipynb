{
 "cells": [
  {
   "cell_type": "code",
   "execution_count": 7,
   "metadata": {},
   "outputs": [],
   "source": [
    "from urllib import request\n",
    "from tqdm import tqdm\n",
    "import json\n",
    "\n",
    "body = {\n",
    "    \"bookid\": 3,\n",
    "    \"neighbor\": 3\n",
    "}\n",
    "body = json.dumps(body, ensure_ascii=False).encode('utf8')\n",
    "r = request.Request('http://127.0.0.1:30004/index', data=body, headers={'Content-Type': 'application/json; charset=utf-8'}, method=\"POST\")"
   ]
  },
  {
   "cell_type": "code",
   "execution_count": 9,
   "metadata": {},
   "outputs": [
    {
     "name": "stdout",
     "output_type": "stream",
     "text": [
      "{'nodes': [3, 24810634, 20928522, 6045462, 26486167, 28596129, 12445986, 22322986, 6646957, 14288946, 17337270, 24946104, 21445817, 28929338, 365116, 28262082, 21954756, 20569038, 28079697, 28120790, 28871001, 26205150, 24749025, 34830178, 19037050], 'error_message': '', 'links': [{'source': 28871001, 'target': 21954756}, {'source': 365116, 'target': 19037050}, {'source': 17337270, 'target': 24749025}, {'source': 3, 'target': 28871001}, {'source': 26205150, 'target': 28871001}, {'source': 17337270, 'target': 20928522}, {'source': 365116, 'target': 14288946}, {'source': 17337270, 'target': 22322986}, {'source': 17337270, 'target': 26486167}, {'source': 21954756, 'target': 20569038}, {'source': 17337270, 'target': 12445986}, {'source': 365116, 'target': 28871001}, {'source': 28079697, 'target': 34830178}, {'source': 28871001, 'target': 365116}, {'source': 21954756, 'target': 21445817}, {'source': 21954756, 'target': 24810634}, {'source': 28871001, 'target': 26205150}, {'source': 365116, 'target': 6646957}, {'source': 28079697, 'target': 28929338}, {'source': 21954756, 'target': 28871001}, {'source': 28871001, 'target': 17337270}, {'source': 28079697, 'target': 28262082}, {'source': 365116, 'target': 6045462}, {'source': 21954756, 'target': 24946104}, {'source': 28871001, 'target': 28079697}, {'source': 28079697, 'target': 28596129}, {'source': 28079697, 'target': 28120790}]}\n"
     ]
    }
   ],
   "source": [
    "with request.urlopen(r) as f:\n",
    "    c = f.read().decode('utf-8')\n",
    "result = json.loads(c)\n",
    "print(result)"
   ]
  },
  {
   "cell_type": "code",
   "execution_count": 6,
   "metadata": {},
   "outputs": [
    {
     "data": {
      "text/plain": [
       "''"
      ]
     },
     "execution_count": 6,
     "metadata": {},
     "output_type": "execute_result"
    }
   ],
   "source": [
    "result['error_message']"
   ]
  },
  {
   "cell_type": "code",
   "execution_count": null,
   "metadata": {},
   "outputs": [],
   "source": []
  }
 ],
 "metadata": {
  "kernelspec": {
   "display_name": "py310hf",
   "language": "python",
   "name": "python3"
  },
  "language_info": {
   "codemirror_mode": {
    "name": "ipython",
    "version": 3
   },
   "file_extension": ".py",
   "mimetype": "text/x-python",
   "name": "python",
   "nbconvert_exporter": "python",
   "pygments_lexer": "ipython3",
   "version": "3.10.9"
  },
  "orig_nbformat": 4
 },
 "nbformat": 4,
 "nbformat_minor": 2
}
