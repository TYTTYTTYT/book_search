{
 "cells": [
  {
   "cell_type": "code",
   "execution_count": null,
   "metadata": {},
   "outputs": [],
   "source": [
    "from urllib import request\n",
    "from tqdm import tqdm\n",
    "import json\n",
    "\n",
    "body = {\n",
    "    \"query_type\": \"boolean\",\n",
    "    \"query\": \"apple AND google NOT microsoft usa\"\n",
    "}\n",
    "body = json.dumps(body, ensure_ascii=False).encode('utf8')\n",
    "r = request.Request('http://127.0.0.1:30002/index', data=body, headers={'Content-Type': 'application/json; charset=utf-8'}, method=\"POST\")"
   ]
  },
  {
   "cell_type": "code",
   "execution_count": null,
   "metadata": {},
   "outputs": [],
   "source": [
    "with request.urlopen(r) as f:\n",
    "    c = f.read().decode('utf-8')\n",
    "result = json.loads(c)\n",
    "print(result)"
   ]
  }
 ],
 "metadata": {
  "language_info": {
   "name": "python"
  },
  "orig_nbformat": 4
 },
 "nbformat": 4,
 "nbformat_minor": 2
}
