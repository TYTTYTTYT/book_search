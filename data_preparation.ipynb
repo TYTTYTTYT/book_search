{
 "cells": [
  {
   "attachments": {},
   "cell_type": "markdown",
   "metadata": {},
   "source": [
    "# Data Preparation"
   ]
  },
  {
   "cell_type": "markdown",
   "metadata": {},
   "source": [
    "## Download Goodreads Dataset\n",
    "\n",
    "Download the UCSD Book Graph Dataset and save to the data directory.\n",
    "\n",
    "### Dataset Information\n",
    "* 2.36M books with meta-data\n",
    "* 15M reviews\n",
    "\n",
    "### Resource Link\n",
    "[UCSD Book Graph](https://sites.google.com/eng.ucsd.edu/ucsdbookgraph/home)\n"
   ]
  },
  {
   "cell_type": "code",
   "execution_count": null,
   "metadata": {},
   "outputs": [],
   "source": [
    "%pip install gdown\n",
    "!mkdir data/goodreads\n",
    "!gdown --fuzzy 'https://drive.google.com/uc?id=1LXpK1UfqtP89H1tYy0pBGHjYk8IhigUK' -O data/goodreads/\n",
    "!wget https://drive.google.com/uc?id=19cdwyXwfXx_HDIgxXaHzH0mrx8nMyLvC -O data/goodreads/goodreads_book_authors.json.gz\n",
    "!gdown --fuzzy 'https://drive.google.com/uc?id=1op8D4e5BaxU2JcPUgxM3ZqrodajryFBb' -O data/goodreads/\n",
    "!gzip -d data/goodreads/goodreads_book_authors.json.gz\n",
    "!gzip -d data/goodreads/goodreads_books.json.gz\n",
    "!gzip -d data/goodreads/goodreads_book_series.json.gz"
   ]
  },
  {
   "attachments": {},
   "cell_type": "markdown",
   "metadata": {},
   "source": [
    "## 1. Reverse Index Data\n",
    "\n",
    "Use book title, description, and book id to build the index."
   ]
  },
  {
   "cell_type": "code",
   "execution_count": 9,
   "metadata": {},
   "outputs": [],
   "source": [
    "import json\n",
    "from tqdm import tqdm\n",
    "import codecs"
   ]
  },
  {
   "cell_type": "code",
   "execution_count": null,
   "metadata": {},
   "outputs": [],
   "source": [
    "with codecs.open('data/goodreads/goodreads_books.json', 'r', encoding='utf-8') as fin:\n",
    "    text = fin.readlines()\n",
    "print(len(text))"
   ]
  },
  {
   "cell_type": "code",
   "execution_count": null,
   "metadata": {},
   "outputs": [],
   "source": [
    "with codecs.open('data/goodreads/goodreads_book_authors.json', 'r', encoding='utf-8') as fin:\n",
    "    authors = fin.readlines()\n",
    "print(len(authors))"
   ]
  },
  {
   "cell_type": "code",
   "execution_count": null,
   "metadata": {},
   "outputs": [],
   "source": [
    "authors[0]"
   ]
  },
  {
   "cell_type": "code",
   "execution_count": null,
   "metadata": {},
   "outputs": [],
   "source": [
    "authormap = dict()\n",
    "for author_info in tqdm(authors):\n",
    "    author_info = json.loads(author_info)\n",
    "    authormap[int(author_info['author_id'])] = author_info['name']"
   ]
  },
  {
   "cell_type": "code",
   "execution_count": null,
   "metadata": {},
   "outputs": [],
   "source": [
    "with codecs.open('data/goodreads/goodreads_book_series.json', 'r', encoding='utf-8') as fin:\n",
    "    series = fin.readlines()\n",
    "print(len(series))"
   ]
  },
  {
   "cell_type": "code",
   "execution_count": null,
   "metadata": {},
   "outputs": [],
   "source": [
    "seriemap = dict()\n",
    "for serie in tqdm(series):\n",
    "    serie = json.loads(serie)\n",
    "    seriemap[int(serie['series_id'])] = (serie['title'], serie['description'])"
   ]
  },
  {
   "cell_type": "code",
   "execution_count": null,
   "metadata": {},
   "outputs": [],
   "source": [
    "with codecs.open('data/goodreads/book_index_data.json', 'w', encoding='utf-8') as fout:\n",
    "    for book in tqdm(text):\n",
    "        meta = json.loads(book)\n",
    "        book_info = dict()\n",
    "        description = meta['description']\n",
    "        book_info['book_id'] = int(meta['book_id'])\n",
    "        book_info['title'] = meta['title']\n",
    "        book_info['description'] = description\n",
    "        author_list = []\n",
    "        for author in meta['authors']:\n",
    "            author_list.append(authormap[int(author['author_id'])])\n",
    "        book_info['author_list'] = author_list\n",
    "        fout.write(json.dumps(book_info, ensure_ascii=False) + '\\n')"
   ]
  },
  {
   "attachments": {},
   "cell_type": "markdown",
   "metadata": {},
   "source": [
    "## 2. Database Data"
   ]
  },
  {
   "cell_type": "code",
   "execution_count": null,
   "metadata": {},
   "outputs": [],
   "source": [
    "with codecs.open('data/goodreads/book_database_data.json', 'w', encoding='utf-8') as fout:\n",
    "    for book in tqdm(text):\n",
    "        meta = json.loads(book)\n",
    "        book_info = dict()\n",
    "        description = meta['description']\n",
    "        author_list = []\n",
    "        for author in meta['authors']:\n",
    "            author_list.append(authormap[int(author['author_id'])])\n",
    "        meta['author_list'] = author_list\n",
    "        series_list = []\n",
    "        for series in meta['series']:\n",
    "            series_list.append(seriemap[int(series)])\n",
    "        meta['series_list'] = series_list\n",
    "        fout.write(json.dumps(meta, ensure_ascii=False) + '\\n')"
   ]
  },
  {
   "cell_type": "code",
   "execution_count": null,
   "metadata": {},
   "outputs": [],
   "source": []
  }
 ],
 "metadata": {
  "kernelspec": {
   "display_name": "ttds",
   "language": "python",
   "name": "python3"
  },
  "language_info": {
   "codemirror_mode": {
    "name": "ipython",
    "version": 3
   },
   "file_extension": ".py",
   "mimetype": "text/x-python",
   "name": "python",
   "nbconvert_exporter": "python",
   "pygments_lexer": "ipython3",
   "version": "3.10.4"
  },
  "orig_nbformat": 4,
  "vscode": {
   "interpreter": {
    "hash": "a7623d51d6ae599adea5a5c6aa509685e65f96c45698f457e4e53b1d35ec6011"
   }
  }
 },
 "nbformat": 4,
 "nbformat_minor": 2
}
