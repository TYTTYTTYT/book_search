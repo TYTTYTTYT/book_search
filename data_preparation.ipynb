{
 "cells": [
  {
   "attachments": {},
   "cell_type": "markdown",
   "metadata": {},
   "source": [
    "# Data Preparation"
   ]
  },
  {
   "cell_type": "markdown",
   "metadata": {},
   "source": [
    "## Download Goodreads Dataset\n",
    "\n",
    "Download the UCSD Book Graph Dataset and save to the data directory.\n",
    "\n",
    "### Dataset Information\n",
    "* 2.36M books with meta-data\n",
    "* 15M reviews\n",
    "\n",
    "### Resource Link\n",
    "[UCSD Book Graph](https://sites.google.com/eng.ucsd.edu/ucsdbookgraph/home)\n"
   ]
  },
  {
   "cell_type": "code",
   "execution_count": null,
   "metadata": {},
   "outputs": [],
   "source": [
    "%pip install gdown\n",
    "!mkdir data/goodreads\n",
    "!gdown --fuzzy 'https://drive.google.com/uc?id=1LXpK1UfqtP89H1tYy0pBGHjYk8IhigUK' -O data/goodreads/\n",
    "!wget https://drive.google.com/uc?id=19cdwyXwfXx_HDIgxXaHzH0mrx8nMyLvC -O data/goodreads/goodreads_book_authors.json.gz\n",
    "!gdown --fuzzy 'https://drive.google.com/uc?id=1op8D4e5BaxU2JcPUgxM3ZqrodajryFBb' -O data/goodreads/\n",
    "!gzip -d data/goodreads/goodreads_book_authors.json.gz\n",
    "!gzip -d data/goodreads/goodreads_books.json.gz\n",
    "!gzip -d data/goodreads/goodreads_book_series.json.gz"
   ]
  },
  {
   "attachments": {},
   "cell_type": "markdown",
   "metadata": {},
   "source": [
    "## 1. Reverse Index Data\n",
    "\n",
    "Use book title, description, and book id to build the index."
   ]
  },
  {
   "cell_type": "code",
   "execution_count": 9,
   "metadata": {},
   "outputs": [],
   "source": [
    "import json\n",
    "from tqdm import tqdm\n",
    "import codecs"
   ]
  },
  {
   "cell_type": "code",
   "execution_count": null,
   "metadata": {},
   "outputs": [],
   "source": [
    "with codecs.open('data/goodreads/goodreads_books.json', 'r', encoding='utf-8') as fin:\n",
    "    text = fin.readlines()\n",
    "print(len(text))"
   ]
  },
  {
   "cell_type": "code",
   "execution_count": null,
   "metadata": {},
   "outputs": [],
   "source": [
    "with codecs.open('data/goodreads/goodreads_book_authors.json', 'r', encoding='utf-8') as fin:\n",
    "    authors = fin.readlines()\n",
    "print(len(authors))"
   ]
  },
  {
   "cell_type": "code",
   "execution_count": null,
   "metadata": {},
   "outputs": [],
   "source": [
    "authors[0]"
   ]
  },
  {
   "cell_type": "code",
   "execution_count": null,
   "metadata": {},
   "outputs": [],
   "source": [
    "authormap = dict()\n",
    "for author_info in tqdm(authors):\n",
    "    author_info = json.loads(author_info)\n",
    "    authormap[int(author_info['author_id'])] = author_info['name']"
   ]
  },
  {
   "cell_type": "code",
   "execution_count": null,
   "metadata": {},
   "outputs": [],
   "source": [
    "with codecs.open('data/goodreads/goodreads_book_series.json', 'r', encoding='utf-8') as fin:\n",
    "    series = fin.readlines()\n",
    "print(len(series))"
   ]
  },
  {
   "cell_type": "code",
   "execution_count": null,
   "metadata": {},
   "outputs": [],
   "source": [
    "seriemap = dict()\n",
    "for serie in tqdm(series):\n",
    "    serie = json.loads(serie)\n",
    "    seriemap[int(serie['series_id'])] = (serie['title'], serie['description'])"
   ]
  },
  {
   "cell_type": "code",
   "execution_count": null,
   "metadata": {},
   "outputs": [],
   "source": [
    "with codecs.open('data/goodreads/book_index_data.json', 'w', encoding='utf-8') as fout:\n",
    "    for book in tqdm(text):\n",
    "        meta = json.loads(book)\n",
    "        book_info = dict()\n",
    "        description = meta['description']\n",
    "        book_info['book_id'] = int(meta['book_id'])\n",
    "        book_info['title'] = meta['title']\n",
    "        book_info['description'] = description\n",
    "        author_list = []\n",
    "        for author in meta['authors']:\n",
    "            author_list.append(authormap[int(author['author_id'])])\n",
    "        book_info['author_list'] = author_list\n",
    "        fout.write(json.dumps(book_info, ensure_ascii=False) + '\\n')"
   ]
  },
  {
   "attachments": {},
   "cell_type": "markdown",
   "metadata": {},
   "source": [
    "## 2. Database Data"
   ]
  },
  {
   "cell_type": "code",
   "execution_count": null,
   "metadata": {},
   "outputs": [],
   "source": [
    "with codecs.open('data/goodreads/book_database_data.json', 'w', encoding='utf-8') as fout:\n",
    "    for book in tqdm(text):\n",
    "        meta = json.loads(book)\n",
    "        book_info = dict()\n",
    "        description = meta['description']\n",
    "        author_list = []\n",
    "        for author in meta['authors']:\n",
    "            author_list.append(authormap[int(author['author_id'])])\n",
    "        meta['author_list'] = author_list\n",
    "        series_list = []\n",
    "        for series in meta['series']:\n",
    "            series_list.append(seriemap[int(series)])\n",
    "        meta['series_list'] = series_list\n",
    "        fout.write(json.dumps(meta, ensure_ascii=False) + '\\n')"
   ]
  },
  {
   "attachments": {},
   "cell_type": "markdown",
   "metadata": {},
   "source": [
    "## Prepare book data with reviews\n",
    "\n",
    "### 1. Load book data"
   ]
  },
  {
   "cell_type": "code",
   "execution_count": 2,
   "metadata": {},
   "outputs": [],
   "source": [
    "from index_server.cache_dict.cache_dict import CacheDict\n",
    "import json\n",
    "import codecs\n",
    "from collections import deque"
   ]
  },
  {
   "cell_type": "code",
   "execution_count": 2,
   "metadata": {},
   "outputs": [],
   "source": [
    "book_data = CacheDict(100000, 'data/goodreads/book_database_with_review/')"
   ]
  },
  {
   "cell_type": "code",
   "execution_count": 3,
   "metadata": {},
   "outputs": [
    {
     "name": "stdout",
     "output_type": "stream",
     "text": [
      "100000\n",
      "200000\n",
      "300000\n",
      "400000\n",
      "{\"isbn\": \"8807173174\", \"text_reviews_count\": \"6\", \"series\": [], \"country_code\": \"US\", \"language_code\": \"ita\", \"popular_shelves\": [{\"count\": \"22\", \"name\": \"to-read\"}, {\"count\": \"2\", \"name\": \"currently-reading\"}, {\"count\": \"1\", \"name\": \"tentative-to-read-list\"}, {\"count\": \"1\", \"name\": \"sexualized-violence\"}, {\"count\": \"1\", \"name\": \"to-read-also-published-in-italian\"}, {\"count\": \"1\", \"name\": \"to-read-maybe\"}], \"asin\": \"\", \"is_ebook\": \"false\", \"average_rating\": \"3.78\", \"kindle_asin\": \"\", \"similar_books\": [], \"description\": \"Emiliano Fittipaldi e stato processato in Vaticano nel 2016 per un libro, \\\"Avarizia. Le carte che svelano ricchezza, scandali e segreti della Chiesa di Francesco\\\", di cui si e parlato in tutto il mondo. Nel 2017 torna con una nuova inchiesta. \\\"Da qualche tempo sto scartabellando nuovi documenti riservati, intercettazioni delle procure italiane e straniere, atti di commissioni internazionali. Sto incontrando preti e monsignori che mi raccontano che, oltre agli scandali economici, ce ne sono di ben peggiori. Che il peccato piu praticato e piu nascosto in Vaticano non e l'avarizia. E la lussuria\\\". Nessuno, fino ad ora, aveva messo in fila documenti, dati, casi concreti, dichiarazioni dottrinarie e inchieste giudiziarie per comporre un ritratto cosi sconvolgente della Chiesa di oggi. Ma e giunto il momento di dire il peccato e anche il peccatore. Perche certi vizi capitali di preti, vescovi e cardinali possono portare a crimini e guerre di potere. E a colpevoli silenzi che distruggono le vite di innocenti. Ecco i documenti che svelano chi, in Vaticano, tradisce il sesto comandamento.\\n---\\nEmiliano Fittipaldi (Napoli, 1974), e inviato speciale de \\\"L'Espresso\\\". In passato ha scritto inchieste per il \\\"Corriere della Sera\\\" e per il \\\"Mattino\\\". Ha pubblicato Profondo Italia (2004) e Cosi ci uccidono (2010). Per Feltrinelli e uscito nel 2015 il bestseller Avarizia. Le carte che svelano ricchezza, scandali e segreti della chiesa di Francesco, tradotto in vari paesi. In seguito all'uscita del libro e stato accusato dalla Santa Sede di aver divulgato segreti di stato, ed e stato messo sotto processo in Vaticano. Una vicenda che e stata seguita dai media di tutto il mondo. E stato prosciolto per \\\"difetto di giurisdizione\\\" il 7 luglio 2016.\", \"format\": \"Paperback\", \"link\": \"https://www.goodreads.com/book/show/33856414-lussuria\", \"authors\": [{\"author_id\": \"5006399\", \"role\": \"\"}], \"publisher\": \"Feltrinelli\", \"num_pages\": \"208\", \"publication_day\": \"19\", \"isbn13\": \"9788807173172\", \"publication_month\": \"1\", \"edition_information\": \"Serie bianca\", \"publication_year\": \"2017\", \"url\": \"https://www.goodreads.com/book/show/33856414-lussuria\", \"image_url\": \"https://images.gr-assets.com/books/1484407902m/33856414.jpg\", \"book_id\": \"33856414\", \"ratings_count\": \"18\", \"work_id\": \"54802937\", \"title\": \"Lussuria: Peccati, scandali e tradimenti  \n",
      "di una Chiesa fatta di uomini\", \"title_without_series\": \"Lussuria: Peccati, scandali e tradimenti  \n",
      "di una Chiesa fatta di uomini\", \"author_list\": [\"Emiliano Fittipaldi\"], \"series_list\": []}\n",
      "\n",
      "500000\n",
      "600000\n",
      "700000\n",
      "800000\n",
      "900000\n",
      "1000000\n",
      "1100000\n",
      "1200000\n",
      "1300000\n",
      "1400000\n",
      "{\"isbn\": \"8865082704\", \"text_reviews_count\": \"27\", \"series\": [\"794814\"], \"country_code\": \"US\", \"language_code\": \"ita\", \"popular_shelves\": [{\"count\": \"80\", \"name\": \"to-read\"}, {\"count\": \"6\", \"name\": \"favorites\"}, {\"count\": \"4\", \"name\": \"currently-reading\"}, {\"count\": \"4\", \"name\": \"ebook\"}, {\"count\": \"3\", \"name\": \"romance\"}, {\"count\": \"2\", \"name\": \"cartaceo\"}, {\"count\": \"2\", \"name\": \"historical\"}, {\"count\": \"2\", \"name\": \"history\"}, {\"count\": \"2\", \"name\": \"kindle\"}, {\"count\": \"2\", \"name\": \"historical-romance\"}, {\"count\": \"2\", \"name\": \"romance-storico\"}, {\"count\": \"2\", \"name\": \"storico\"}, {\"count\": \"1\", \"name\": \"history_romanzi-e-non\"}, {\"count\": \"1\", \"name\": \"serie-di-roma-d-c\"}, {\"count\": \"1\", \"name\": \"letto\"}, {\"count\": \"1\", \"name\": \"erotica-mente\"}, {\"count\": \"1\", \"name\": \"ancora-da-leggere\"}, {\"count\": \"1\", \"name\": \"mia-biblioteca\"}, {\"count\": \"1\", \"name\": \"read-in-2016\"}, {\"count\": \"1\", \"name\": \"narrativa\"}, {\"count\": \"1\", \"name\": \"cartacei\"}, {\"count\": \"1\", \"name\": \"historical-novel\"}, {\"count\": \"1\", \"name\": \"new-young-adult-rosa-narrativa\"}, {\"count\": \"1\", \"name\": \"romanzo\"}, {\"count\": \"1\", \"name\": \"romanzi-rosa-storico\"}, {\"count\": \"1\", \"name\": \"libreria\"}, {\"count\": \"1\", \"name\": \"saghe-finite\"}, {\"count\": \"1\", \"name\": \"commedy\"}, {\"count\": \"1\", \"name\": \"romance-history\"}, {\"count\": \"1\", \"name\": \"storici\"}, {\"count\": \"1\", \"name\": \"books\"}, {\"count\": \"1\", \"name\": \"romance-storici\"}, {\"count\": \"1\", \"name\": \"favorite\"}, {\"count\": \"1\", \"name\": \"romance-read\"}, {\"count\": \"1\", \"name\": \"erotico\"}, {\"count\": \"1\", \"name\": \"miss-felicetti\"}, {\"count\": \"1\", \"name\": \"autografati\"}, {\"count\": \"1\", \"name\": \"my-library\"}, {\"count\": \"1\", \"name\": \"venduto\"}, {\"count\": \"1\", \"name\": \"ultimi-acquisti\"}, {\"count\": \"1\", \"name\": \"romantico\"}, {\"count\": \"1\", \"name\": \"my-favorites\"}, {\"count\": \"1\", \"name\": \"finished\"}, {\"count\": \"1\", \"name\": \"quero-ler\"}, {\"count\": \"1\", \"name\": \"miei\"}, {\"count\": \"1\", \"name\": \"rosa-storico\"}, {\"count\": \"1\", \"name\": \"to-buy\"}, {\"count\": \"1\", \"name\": \"fantasy\"}, {\"count\": \"1\", \"name\": \"serie\"}, {\"count\": \"1\", \"name\": \"indimenticabili\"}, {\"count\": \"1\", \"name\": \"futuras-lecturas\"}, {\"count\": \"1\", \"name\": \"maharet-s-favorite-books\"}], \"asin\": \"\", \"is_ebook\": \"false\", \"average_rating\": \"4.47\", \"kindle_asin\": \"\", \"similar_books\": [\"16906850\", \"17027953\", \"19186434\", \"17957516\", \"17261373\", \"17253970\", \"4853640\", \"9396669\", \"24965067\", \"288823\", \"18168616\", \"15808587\", \"16116333\", \"13608426\", \"690063\", \"18649170\", \"24932567\"], \"description\": \"Dalle selvagge foreste germaniche ai fasti, ai palazzi, ai templi della Roma antica, una storia di passione, ribellione e tradimento che vi trascinera in un turbine di emozioni e colpi di scena con indimenticabili protagonisti.\\nIl legato Marco Quinto Rufo, uomo di estrema forza e coraggio, e di stanza a Mogontiacum, ultimo avamposto dell'Impero Romano in terra germanica; a lui il compito di asservire la tribu dei chatti. Dopo una drammatica battaglia, il suo amico e compagno fraterno, Quinto Decio Aquilato, riesce a fare prigionieri i due principi, Ishold e suo fratello Raganhar. Ora che i nemici sembrano essere domati, un pericolo ancora piu insidioso incombe su Aquilato, qualcosa che lui non avrebbe mai pensato di affrontare ... Inizia cosi un amore impossibile tra un guerriero valoroso e una donna forte e caparbia divisi dai confini degli uomini ma non da quelli del cuore.\", \"format\": \"Paperback\", \"link\": \"https://www.goodreads.com/book/show/17286396-roma-42-d-c\", \"authors\": [{\"author_id\": \"5990421\", \"role\": \"\"}], \"publisher\": \"Leggereditore\", \"num_pages\": \"437\", \"publication_day\": \"31\", \"isbn13\": \"9788865082706\", \"publication_month\": \"1\", \"edition_information\": \"\", \"publication_year\": \"2013\", \"url\": \"https://www.goodreads.com/book/show/17286396-roma-42-d-c\", \"image_url\": \"https://images.gr-assets.com/books/1359212855m/17286396.jpg\", \"book_id\": \"17286396\", \"ratings_count\": \"201\", \"work_id\": \"23906323\", \"title\": \"Roma 42 d.C.:  \n",
      "Cuore nemico\", \"title_without_series\": \"Roma 42 d.C.:  \n",
      "Cuore nemico\", \"author_list\": [\"Adele Vieri Castellano\"], \"series_list\": [[\"Roma Caput Mundi\", \"\"]]}\n",
      "\n",
      "1500000\n",
      "1600000\n",
      "1700000\n",
      "1800000\n",
      "1900000\n",
      "2000000\n",
      "2100000\n",
      "2200000\n",
      "2300000\n"
     ]
    }
   ],
   "source": [
    "with codecs.open('data/goodreads/book_database_data.json', 'r', encoding='utf-8') as fin:\n",
    "    num = 0\n",
    "    errors = 0\n",
    "    while True:\n",
    "        num += 1\n",
    "        if num % 100000 == 0: print(num)\n",
    "        line = fin.readline()\n",
    "        if not line:\n",
    "            break\n",
    "        try:\n",
    "            doc = json.loads(line)\n",
    "            book_id = doc['book_id']\n",
    "            doc['comments'] = deque()\n",
    "            book_data[book_id] = doc\n",
    "        except:\n",
    "            print(line)\n",
    "            errors += 1\n",
    "\n",
    "        "
   ]
  },
  {
   "cell_type": "code",
   "execution_count": 11,
   "metadata": {},
   "outputs": [
    {
     "data": {
      "text/plain": [
       "6"
      ]
     },
     "execution_count": 11,
     "metadata": {},
     "output_type": "execute_result"
    }
   ],
   "source": [
    "errors"
   ]
  },
  {
   "cell_type": "code",
   "execution_count": 14,
   "metadata": {},
   "outputs": [
    {
     "name": "stdout",
     "output_type": "stream",
     "text": [
      "{\"user_id\": \"e9651bbea324fe1c77cd0756d7ff1370\", \"book_id\": \"27259867\", \"review_id\": \"e36faa8cc46f0381e09af833dece3d77\", \"rating\": 5, \"review_text\": \"Cormac or \\\"Mac\\\" as he likes to be called is set and happy with the way his life is. He is successful in his business and the way everything is going in his life. \\n Andi is having a rough time - her dad beat her and she ended up in the hospital. She meets Stormy Harrison and he is gonna help her. When she meets Mac and he tells her she is his mate she tries to run because what she has heard about mates scares her to death and she wants nothing to do with it. \\n Can Mac convince her that she has it all wrong and she stay with him? This is a definite must read new series by Kathi S. Barton and would recommend to everyone.\", \"date_added\": \"Mon Feb 08 05:09:59 -0800 2016\", \"date_updated\": \"Sun Jul 31 20:53:32 -0700 2016\", \"read_at\": \"Sun Feb 07 00:00:00 -0800 2016\", \"started_at\": \"Thu Feb 04 00:00:00 -0800 2016\", \"n_votes\": 0, \"n_comments\": 0}\n",
      "\n"
     ]
    }
   ],
   "source": [
    "with codecs.open('data/goodreads/goodreads_reviews_dedup.json', 'r', encoding='utf-8') as fin:\n",
    "    num = 0\n",
    "    errors = 0\n",
    "    while True:\n",
    "        num += 1\n",
    "        if num % 100000 == 0: print(num)\n",
    "        line = fin.readline()\n",
    "        if not line:\n",
    "            break\n",
    "        try:\n",
    "            review = json.loads(line)\n",
    "            book_id = review['book_id']\n",
    "            user_id = review['user_id']\n",
    "            review_text = review['review_text']\n",
    "            score = review['rating']\n",
    "            \n",
    "            book_data[book_id]['comments'].append((user_id, review_text, score))\n",
    "        except:\n",
    "            print(line)\n",
    "            errors += 1\n",
    "    "
   ]
  },
  {
   "cell_type": "code",
   "execution_count": 3,
   "metadata": {},
   "outputs": [
    {
     "name": "stdout",
     "output_type": "stream",
     "text": [
      "{\"user_id\": \"8842281e1d1347389f2ab93d60773d4d\", \"book_id\": \"24375664\", \"review_id\": \"5cd416f3efc3f944fce4ce2db2290d5e\", \"rating\": 5, \"review_text\": \"Mind blowingly cool. Best science fiction I've read in some time. I just loved all the descriptions of the society of the future - how they lived in trees, the notion of owning property or even getting married was gone. How every surface was a screen. \\n The undulations of how society responds to the Trisolaran threat seem surprising to me. Maybe its more the Chinese perspective, but I wouldn't have thought the ETO would exist in book 1, and I wouldn't have thought people would get so over-confident in our primitive fleet's chances given you have to think that with superior science they would have weapons - and defenses - that would just be as rifles to arrows once were. \\n But the moment when Luo Ji won as a wallfacer was just too cool. I may have actually done a fist pump. Though by the way, if the Dark Forest theory is right - and I see no reason why it wouldn't be - we as a society should probably stop broadcasting so much signal out into the universe.\", \"date_added\": \"Fri Aug 25 13:55:02 -0700 2017\", \"date_updated\": \"Mon Oct 09 08:55:59 -0700 2017\", \"read_at\": \"Sat Oct 07 00:00:00 -0700 2017\", \"started_at\": \"Sat Aug 26 00:00:00 -0700 2017\", \"n_votes\": 16, \"n_comments\": 0}\n",
      "\n"
     ]
    }
   ],
   "source": [
    "with codecs.open('data/goodreads/goodreads_reviews_dedup.json', 'r', encoding='utf-8') as fin:\n",
    "    num = 0\n",
    "    errors = 0\n",
    "    while True:\n",
    "        num += 1\n",
    "        if num % 10000 == 0: print(num)\n",
    "        line = fin.readline()\n",
    "        print(line)\n",
    "        break"
   ]
  },
  {
   "cell_type": "code",
   "execution_count": 9,
   "metadata": {},
   "outputs": [
    {
     "data": {
      "text/plain": [
       "36530431"
      ]
     },
     "execution_count": 9,
     "metadata": {},
     "output_type": "execute_result"
    }
   ],
   "source": [
    "max(ids)"
   ]
  },
  {
   "cell_type": "code",
   "execution_count": 10,
   "metadata": {},
   "outputs": [
    {
     "data": {
      "text/plain": [
       "1"
      ]
     },
     "execution_count": 10,
     "metadata": {},
     "output_type": "execute_result"
    }
   ],
   "source": [
    "min(ids)"
   ]
  },
  {
   "attachments": {},
   "cell_type": "markdown",
   "metadata": {},
   "source": [
    "2. Generate the file for index building"
   ]
  },
  {
   "cell_type": "code",
   "execution_count": 1,
   "metadata": {},
   "outputs": [],
   "source": [
    "import json\n",
    "import codecs"
   ]
  },
  {
   "cell_type": "code",
   "execution_count": 2,
   "metadata": {},
   "outputs": [
    {
     "name": "stdout",
     "output_type": "stream",
     "text": [
      "100000\n",
      "200000\n",
      "300000\n",
      "400000\n",
      "500000\n",
      "600000\n",
      "700000\n",
      "800000\n",
      "900000\n",
      "1000000\n",
      "1100000\n",
      "1200000\n",
      "1300000\n",
      "1400000\n",
      "1500000\n",
      "1600000\n",
      "1700000\n",
      "1800000\n",
      "1900000\n",
      "2000000\n",
      "2100000\n",
      "2200000\n",
      "2300000\n"
     ]
    }
   ],
   "source": [
    "total = 0\n",
    "with codecs.open('data2/data/book_database_with_review.json', 'r') as fin, codecs.open('data2/data/book_index_with_review.json', 'w') as fout:\n",
    "    while True:\n",
    "        line = fin.readline()\n",
    "        total += 1\n",
    "        if not line:\n",
    "            break\n",
    "        if total % 100000 == 0:\n",
    "            print(total)\n",
    "        doc = json.loads(line)\n",
    "        o_doc = dict()\n",
    "        o_doc['book_id'] = int(doc['book_id'])\n",
    "        o_doc['title'] = doc['title']\n",
    "        o_doc['description'] = doc['description']\n",
    "        o_doc['author_list'] = doc['author_list']\n",
    "        reviews = list(map(lambda x: x[1], doc['comments']))\n",
    "        o_doc['comments'] = reviews\n",
    "        o = json.dumps(o_doc, ensure_ascii=False)\n",
    "        fout.write(o + '\\n')"
   ]
  },
  {
   "cell_type": "code",
   "execution_count": 4,
   "metadata": {},
   "outputs": [
    {
     "data": {
      "text/plain": [
       "'{\"isbn\": \"0312853122\", \"text_reviews_count\": \"1\", \"series\": [], \"country_code\": \"US\", \"language_code\": \"\", \"popular_shelves\": [{\"count\": \"3\", \"name\": \"to-read\"}, {\"count\": \"1\", \"name\": \"p\"}, {\"count\": \"1\", \"name\": \"collection\"}, {\"count\": \"1\", \"name\": \"w-c-fields\"}, {\"count\": \"1\", \"name\": \"biography\"}], \"asin\": \"\", \"is_ebook\": \"false\", \"average_rating\": \"4.00\", \"kindle_asin\": \"\", \"similar_books\": [], \"description\": \"\", \"format\": \"Paperback\", \"link\": \"https://www.goodreads.com/book/show/5333265-w-c-fields\", \"authors\": [{\"author_id\": \"604031\", \"role\": \"\"}], \"publisher\": \"St. Martin\\'s Press\", \"num_pages\": \"256\", \"publication_day\": \"1\", \"isbn13\": \"9780312853129\", \"publication_month\": \"9\", \"edition_information\": \"\", \"publication_year\": \"1984\", \"url\": \"https://www.goodreads.com/book/show/5333265-w-c-fields\", \"image_url\": \"https://images.gr-assets.com/books/1310220028m/5333265.jpg\", \"book_id\": \"5333265\", \"ratings_count\": \"3\", \"work_id\": \"5400751\", \"title\": \"W.C. Fields: A Life on Film\", \"title_without_series\": \"W.C. Fields: A Life on Film\", \"author_list\": [\"Ronald J. Fields\"], \"series_list\": [], \"comments\": [[\"12157477259ff35f61781fb22cd395a4\", \"Loved this book about WC Fields written by his grandson\", 4]]}\\n'"
      ]
     },
     "execution_count": 4,
     "metadata": {},
     "output_type": "execute_result"
    }
   ],
   "source": [
    "line"
   ]
  },
  {
   "cell_type": "code",
   "execution_count": null,
   "metadata": {},
   "outputs": [],
   "source": []
  }
 ],
 "metadata": {
  "kernelspec": {
   "display_name": "py310hf",
   "language": "python",
   "name": "python3"
  },
  "language_info": {
   "codemirror_mode": {
    "name": "ipython",
    "version": 3
   },
   "file_extension": ".py",
   "mimetype": "text/x-python",
   "name": "python",
   "nbconvert_exporter": "python",
   "pygments_lexer": "ipython3",
   "version": "3.10.9"
  },
  "orig_nbformat": 4,
  "vscode": {
   "interpreter": {
    "hash": "413fe974b7da4a1c1b424d261d237c21295e6c7ace738c8d7984ad1c13dd53da"
   }
  }
 },
 "nbformat": 4,
 "nbformat_minor": 2
}
