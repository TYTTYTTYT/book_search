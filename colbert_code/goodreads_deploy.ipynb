{
 "cells": [
  {
   "cell_type": "code",
   "execution_count": 1,
   "id": "d8d1855c",
   "metadata": {},
   "outputs": [],
   "source": [
    "import os\n",
    "import sys\n",
    "sys.path.insert(0, '../')\n",
    "\n",
    "from colbert.infra import Run, RunConfig, ColBERTConfig\n",
    "from colbert.data import Queries, Collection\n",
    "from colbert import Indexer, Searcher"
   ]
  },
  {
   "cell_type": "code",
   "execution_count": 2,
   "id": "c35fb208",
   "metadata": {},
   "outputs": [
    {
     "name": "stdout",
     "output_type": "stream",
     "text": [
      "[Feb 23, 04:43:19] #> Loading the queries from downloads/lotte/lifestyle/dev/questions.search.tsv ...\n",
      "[Feb 23, 04:43:19] #> Got 417 queries. All QIDs are unique.\n",
      "\n",
      "[Feb 23, 04:43:19] #> Loading collection...\n",
      "0M 1M 2M \n"
     ]
    },
    {
     "data": {
      "text/plain": [
       "'Loaded 417 queries and 2,360,655 passages'"
      ]
     },
     "execution_count": 2,
     "metadata": {},
     "output_type": "execute_result"
    }
   ],
   "source": [
    "dataroot = 'downloads/lotte'\n",
    "dataset = 'lifestyle'\n",
    "datasplit = 'dev'\n",
    "\n",
    "queries = os.path.join(dataroot, dataset, datasplit, 'questions.search.tsv')\n",
    "collection = os.path.join(dataroot, dataset, datasplit, 'collection.tsv')\n",
    "\n",
    "queries = Queries(path=queries)\n",
    "collection = Collection(path=collection)\n",
    "\n",
    "f'Loaded {len(queries)} queries and {len(collection):,} passages'"
   ]
  },
  {
   "cell_type": "code",
   "execution_count": 7,
   "id": "e8097fa9",
   "metadata": {},
   "outputs": [],
   "source": [
    "nbits = 2   # encode each dimension with 2 bits\n",
    "doc_maxlen = 300   # truncate passages at 300 tokens\n",
    "\n",
    "checkpoint = 'downloads/colbertv2.0'\n",
    "index_name = f'lifestyle.dev.2bits'"
   ]
  },
  {
   "cell_type": "code",
   "execution_count": 8,
   "id": "e953992e",
   "metadata": {},
   "outputs": [
    {
     "name": "stdout",
     "output_type": "stream",
     "text": [
      "[Feb 23, 04:47:30] #> Loading collection...\n",
      "0M 1M 2M \n",
      "[Feb 23, 04:47:38] #> Loading codec...\n",
      "[Feb 23, 04:47:38] Loading decompress_residuals_cpp extension (set COLBERT_LOAD_TORCH_EXTENSION_VERBOSE=True for more info)...\n",
      "[Feb 23, 04:47:39] Loading packbits_cpp extension (set COLBERT_LOAD_TORCH_EXTENSION_VERBOSE=True for more info)...\n",
      "[Feb 23, 04:47:39] #> Loading IVF...\n",
      "[Feb 23, 04:47:40] #> Loading doclens...\n"
     ]
    },
    {
     "name": "stderr",
     "output_type": "stream",
     "text": [
      "100%|████████████████████████████████████████████████████████████████████████████████████████████████████| 95/95 [00:00<00:00, 1322.00it/s]"
     ]
    },
    {
     "name": "stdout",
     "output_type": "stream",
     "text": [
      "[Feb 23, 04:47:40] #> Loading codes and residuals...\n"
     ]
    },
    {
     "name": "stderr",
     "output_type": "stream",
     "text": [
      "\n",
      "100%|██████████████████████████████████████████████████████████████████████████████████████████████████████| 95/95 [00:06<00:00, 15.22it/s]\n"
     ]
    }
   ],
   "source": [
    "# To create the searcher using its relative name (i.e., not a full path), set\n",
    "# experiment=value_used_for_indexing in the RunConfig.\n",
    "with Run().context(RunConfig(experiment='notebook')):\n",
    "    searcher = Searcher(index=index_name)\n",
    "\n",
    "\n",
    "# If you want to customize the search latency--quality tradeoff, you can also supply a\n",
    "# config=ColBERTConfig(ncells=.., centroid_score_threshold=.., ndocs=..) argument.\n",
    "# The default settings with k <= 10 (1, 0.5, 256) gives the fastest search,\n",
    "# but you can gain more extensive search by setting larger values of k or\n",
    "# manually specifying more conservative ColBERTConfig settings (e.g. (4, 0.4, 4096))."
   ]
  },
  {
   "cell_type": "code",
   "execution_count": 9,
   "id": "98720fa9",
   "metadata": {},
   "outputs": [
    {
     "name": "stdout",
     "output_type": "stream",
     "text": [
      "#> Chinese cooking recepit\n",
      "\n",
      "#> QueryTokenizer.tensorize(batch_text[0], batch_background[0], bsize) ==\n",
      "#> Input: . Chinese cooking recepit, \t\t True, \t\t None\n",
      "#> Output IDs: torch.Size([32]), tensor([  101,     1,  2822,  8434, 28667, 13699,  4183,   102,   103,   103,\n",
      "          103,   103,   103,   103,   103,   103,   103,   103,   103,   103,\n",
      "          103,   103,   103,   103,   103,   103,   103,   103,   103,   103,\n",
      "          103,   103])\n",
      "#> Output Mask: torch.Size([32]), tensor([1, 1, 1, 1, 1, 1, 1, 1, 0, 0, 0, 0, 0, 0, 0, 0, 0, 0, 0, 0, 0, 0, 0, 0,\n",
      "        0, 0, 0, 0, 0, 0, 0, 0])\n",
      "\n",
      "\t [1] \t\t 18.6 \t\t Chinese Cooking. Cookbook.\n",
      "\t [2] \t\t 18.6 \t\t Chinese Cooking. .\n",
      "\t [3] \t\t 18.5 \t\t Dim Sum: Dumplings, Parcels and Other Delectable Chinese Snacks in 25 Authentic Recipes. Dim sum is a traditional style of eating, where bite-sized tidbits are served for shared dining. This book makes authentic Chinese dim sum accessible to the home cook. It opens with a practical introduction to the cuisine, with essential information on ingredients and equipment. More than 25 recipes follow, with a diverse selection of dishes from all over China..\n",
      "\t [4] \t\t 18.5 \t\t The Everything Chinese Cookbook: From Wonton Soup to Sweet and Sour Chicken-300 Succelent Recipes from the Far East. Featuring hundreds of recipes, such as Snow Pea Stir-fry, Hot Chicken Salad, General Tso's Chicken, and Traditional Mu Shu Pork, The Everything Chinese Cookbookmakes preparing authentic Chinese dishes fun and easy! From basic Chinese flavors and dipping sauces, such as Quick and Easy Sweet-and-Sour Sauce, to Chinese cooking methods and meals, including Stir-fried Orange Beef, The Everything Chinese Cookbookoffers a diverse set of recipes perfect for both vegetarians and meat-eaters. Featuring delicious recipes for: Appetizers, such as Crab Rangoon Soups, such as Wonton Soup Vegetable dishes, such as Stir-fried Baby Bok Choy Beef dishes, such as Mongolian Beef with Rice Noodles Pork dishes, such as Sweet and Sour Spareribs Mouthwatering fiery dishes, such as Spicy Chicken with Cashews Desserts, such as Sweet Baked Pineapple and Banana The Everything Chinese Cookbookwill have you serving up tasty Chinese cuisine to tempt anyone!.\n",
      "\t [5] \t\t 18.4 \t\t Classic Chinese Cuisine. Repeatedly singled out as one of the all-time cookbook bibles, Classic Chinese Cuisine is a thorough introduction to the basics of Chinese cooking, covering all the essential techniques, ingredients, and cooking utensils, with more than 225 recipes, step-by-step illustrations, and full-color photographs. Nina Simonds has an unerring eye for the most approachable and delicious dishes in the Chinese repertoire, from Crispy-Skin Duck and Hundred-Corner Shrimp Balls to Lemon Chicken Wings and Dry-Cooked String Beans..\n",
      "\t [6] \t\t 18.2 \t\t \"Everyday Chinese Cooking: Quick and Delicious Recipes from the Leeann Chin Restaurants. \"\"There are too many exotic ingredients.\"\" . . . \"\"What about all that preparation?\"\" . . . \"\"I don't want to buy special equipment.\"\" . . . Acclaimed restaurateur Leeann Chin and her daughter Katie have heard all the excuses before, and in response they present their collection of delicious, simple recipes that will make any cook feel like a gourmet Chinese chef. Everyday Chinese Cookingproves that the very best Chinese cooking can be achieved in a real home kitchen, by real people, on real schedules. As a young, time-strapped mother cooking for a family of eight on a limited budget -- and in her new home of Minnesota, half a world away from where she was raised -- Leeann Chin developed recipes that worked for her new lifestyle, without access to all the ingredients of her homeland and within the constraints of a very busy life. The results speak for themselves: quick, flavorful, accessible but authentic Chinese dishes that could make you consider opening up your own take-out restaurant. More than 150 recipes encompass appetizers, soups, poultry, beef, pork, seafood, vegetables, noodles, rice, and desserts. Introductions to each recipe provide completely usable information, such as ingredient substitutions, make-ahead tips, serving suggestions, and other ideas for real-life cooking and eating. Everyday Chinese Cookingis more than quick and easy food; it's also naturally healthful. Best of all, once you get a few recipes under your belt (in every sense of the word) you'll realize that Chinese cooking is truly one of the most convenient ways to get dinner on the table with the least amount of stress. Leeann Chin's incredibly successful restaurants have been voted \"\"Best Chinese Food\"\" by Minneapolis & St. Paul Magazine in the Minneapolis area for more than a dozen consecutive years. With the help of her daughter Katie, Leeann proves that Chinese food can -- and should -- be an everyday option for home cooks of all experience levels, everywhere.. \"\n",
      "\t [7] \t\t 18.2 \t\t Chinese Regional Cooking. .\n",
      "\t [8] \t\t 18.1 \t\t Chinese Food Made Easy. Ching-He Huang is one of the brightest stars in modern Chinese cooking in the UK. Each week in her new BBC2 series she re-invents the nation's favourite Chinese dishes, modernising them with fresh, easy to buy ingredients, and offering simple practical tips and techniques. These are brought together in this beautiful book to accompany the series.Drawing on the experiences of top chefs, her family and friends, growers and producers and celebrity enthusiasts Ching sets out to discover the best Chinese cooking in the UK today, introducing easy-to-make Chinese food to sometimes resistant Brits, and painting a picture of modern Anglo-Chinese life in the UK as she goes.Ching's Chinese Kitchen begins with some of the most familiar dishes from a Chinese takeaway menu - Sweet & Sour Prawns, Chicken with Cashew Nuts, Chop Suey and Cantonese Vegetable Stir Fry, each with Ching's special and imaginative twist. Later we explore spicy Szechuan food: Noodles, Dumplings and Dim sum; Seafood; Fast Food ; Desserts and finally Celebratory Food, where Ching presents a complete banquet of dishes to celebrate the Chinese New Year.Ching's knowledge, charm and enthusiasm shine through as she shares the 'basic principles' of Chinese cooking including some of the simple techniques and tips taught by her Grandparents for tasty results. Using ingredients from high-street supermarkets and some imaginative suggestions for alternative ingredients, these classic Chinese dishes are updated, fresh and healthily prepared so that anyone can make and enjoy them..\n",
      "\t [9] \t\t 18.1 \t\t \"Authentic Chinese Cuisine: For the Contemporary Kitchen. This book stands out among the many Chinese vegetarian cookbooks with its innovative recipes for \"\"mock meat\"\" dishes, just like those you enjoy in Chinese restaurants. Sections include: regional cooking in China; planning a Chinese meal; shopping for essential Chinese ingredients; meat substitutes for the right taste and texture. These recipes are as authentic as possible without calling for extremely exotic ingredients or special Chinese equipment to prepare them. These recipes also show that Chinese vegetarian cuisine can provide variation and culinary delight along with nutritional excellence.. \"\n",
      "\t [10] \t\t 18.0 \t\t Simple Chinese Cooking. .\n"
     ]
    }
   ],
   "source": [
    "# query = queries[37]   # or supply your own query\n",
    "# query = \"what is applewatch?\"\n",
    "# query = queries[31]\n",
    "# query = \"hello\"\n",
    "# query = \"learn SQL\"\n",
    "# query = \"prepare a luggage for travel\"\n",
    "query = \"Chinese cooking recepit\"\n",
    "# query = queries[3]\n",
    "\n",
    "\n",
    "print(f\"#> {query}\")\n",
    "\n",
    "# Find the top-3 passages for this query 【query数量】\n",
    "results = searcher.search(query, k=10)\n",
    "# results = searcher.search(query, k=10)\n",
    "\n",
    "# Print out the top-k retrieved passages\n",
    "for passage_id, passage_rank, passage_score in zip(*results):\n",
    "    print(f\"\\t [{passage_rank}] \\t\\t {passage_score:.1f} \\t\\t {searcher.collection[passage_id]}\")"
   ]
  },
  {
   "cell_type": "code",
   "execution_count": null,
   "id": "7c00f039",
   "metadata": {},
   "outputs": [],
   "source": []
  }
 ],
 "metadata": {
  "kernelspec": {
   "display_name": "Python 3 (ipykernel)",
   "language": "python",
   "name": "python3"
  },
  "language_info": {
   "codemirror_mode": {
    "name": "ipython",
    "version": 3
   },
   "file_extension": ".py",
   "mimetype": "text/x-python",
   "name": "python",
   "nbconvert_exporter": "python",
   "pygments_lexer": "ipython3",
   "version": "3.8.16"
  }
 },
 "nbformat": 4,
 "nbformat_minor": 5
}
